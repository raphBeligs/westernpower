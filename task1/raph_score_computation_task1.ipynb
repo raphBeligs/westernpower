{
 "cells": [
  {
   "cell_type": "code",
   "execution_count": 1,
   "id": "wound-allah",
   "metadata": {},
   "outputs": [],
   "source": [
    "import pandas as pd\n",
    "import matplotlib.pyplot as plt\n",
    "import seaborn as sns\n",
    "import numpy as np\n",
    "from tqdm import tqdm\n",
    "import sys\n",
    "import os\n",
    "sys.path.append(os.path.abspath('../common/'))\n",
    "import common_functions_by_date as cfbd\n",
    "import datetime"
   ]
  },
  {
   "cell_type": "code",
   "execution_count": 2,
   "id": "hidden-modification",
   "metadata": {},
   "outputs": [],
   "source": [
    "demand_task2_path = '../task2/Input/demand_train_set2.csv'\n",
    "solar_power_task2_path = '../task2/Input/pv_train_set2.csv'\n",
    "weather_task2_path = '../task2/Input/weather_train_set2.csv'\n",
    "dp_task2 = cfbd.DataPreprocesser(demand_path=demand_task2_path, solar_path=solar_power_task2_path, weather_path=weather_task2_path)\n",
    "dp_task2.load_df()\n",
    "dp_task2.remove_nan()\n",
    "dp_task2.interpolate_df()"
   ]
  },
  {
   "cell_type": "code",
   "execution_count": 4,
   "id": "intended-patrol",
   "metadata": {},
   "outputs": [
    {
     "data": {
      "text/html": [
       "<div>\n",
       "<style scoped>\n",
       "    .dataframe tbody tr th:only-of-type {\n",
       "        vertical-align: middle;\n",
       "    }\n",
       "\n",
       "    .dataframe tbody tr th {\n",
       "        vertical-align: top;\n",
       "    }\n",
       "\n",
       "    .dataframe thead th {\n",
       "        text-align: right;\n",
       "    }\n",
       "</style>\n",
       "<table border=\"1\" class=\"dataframe\">\n",
       "  <thead>\n",
       "    <tr style=\"text-align: right;\">\n",
       "      <th></th>\n",
       "      <th>demand_MW</th>\n",
       "      <th>irradiance_Wm-2</th>\n",
       "      <th>pv_power_mw</th>\n",
       "      <th>panel_temp_C</th>\n",
       "      <th>temp_location3</th>\n",
       "      <th>temp_location6</th>\n",
       "      <th>temp_location2</th>\n",
       "      <th>temp_location4</th>\n",
       "      <th>temp_location5</th>\n",
       "      <th>temp_location1</th>\n",
       "      <th>...</th>\n",
       "      <th>solar_location6</th>\n",
       "      <th>solar_location2</th>\n",
       "      <th>solar_location4</th>\n",
       "      <th>solar_location5</th>\n",
       "      <th>solar_location1</th>\n",
       "      <th>week</th>\n",
       "      <th>dow</th>\n",
       "      <th>date</th>\n",
       "      <th>hour</th>\n",
       "      <th>sp</th>\n",
       "    </tr>\n",
       "    <tr>\n",
       "      <th>datetime</th>\n",
       "      <th></th>\n",
       "      <th></th>\n",
       "      <th></th>\n",
       "      <th></th>\n",
       "      <th></th>\n",
       "      <th></th>\n",
       "      <th></th>\n",
       "      <th></th>\n",
       "      <th></th>\n",
       "      <th></th>\n",
       "      <th></th>\n",
       "      <th></th>\n",
       "      <th></th>\n",
       "      <th></th>\n",
       "      <th></th>\n",
       "      <th></th>\n",
       "      <th></th>\n",
       "      <th></th>\n",
       "      <th></th>\n",
       "      <th></th>\n",
       "      <th></th>\n",
       "    </tr>\n",
       "  </thead>\n",
       "  <tbody>\n",
       "    <tr>\n",
       "      <th>2018-10-16 00:00:00</th>\n",
       "      <td>1.95</td>\n",
       "      <td>0.0</td>\n",
       "      <td>0.0</td>\n",
       "      <td>12.41</td>\n",
       "      <td>11.65</td>\n",
       "      <td>14.870</td>\n",
       "      <td>12.67</td>\n",
       "      <td>11.45</td>\n",
       "      <td>14.190</td>\n",
       "      <td>11.740</td>\n",
       "      <td>...</td>\n",
       "      <td>0.0</td>\n",
       "      <td>0.0</td>\n",
       "      <td>0.0</td>\n",
       "      <td>0.0</td>\n",
       "      <td>0.0</td>\n",
       "      <td>42</td>\n",
       "      <td>1</td>\n",
       "      <td>2018-10-16</td>\n",
       "      <td>0</td>\n",
       "      <td>1.0</td>\n",
       "    </tr>\n",
       "    <tr>\n",
       "      <th>2018-10-16 00:30:00</th>\n",
       "      <td>1.87</td>\n",
       "      <td>0.0</td>\n",
       "      <td>0.0</td>\n",
       "      <td>12.38</td>\n",
       "      <td>11.81</td>\n",
       "      <td>14.850</td>\n",
       "      <td>12.65</td>\n",
       "      <td>11.61</td>\n",
       "      <td>14.190</td>\n",
       "      <td>11.720</td>\n",
       "      <td>...</td>\n",
       "      <td>0.0</td>\n",
       "      <td>0.0</td>\n",
       "      <td>0.0</td>\n",
       "      <td>0.0</td>\n",
       "      <td>0.0</td>\n",
       "      <td>42</td>\n",
       "      <td>1</td>\n",
       "      <td>2018-10-16</td>\n",
       "      <td>0</td>\n",
       "      <td>2.0</td>\n",
       "    </tr>\n",
       "    <tr>\n",
       "      <th>2018-10-16 01:00:00</th>\n",
       "      <td>1.80</td>\n",
       "      <td>0.0</td>\n",
       "      <td>0.0</td>\n",
       "      <td>12.40</td>\n",
       "      <td>11.97</td>\n",
       "      <td>14.830</td>\n",
       "      <td>12.63</td>\n",
       "      <td>11.77</td>\n",
       "      <td>14.190</td>\n",
       "      <td>11.700</td>\n",
       "      <td>...</td>\n",
       "      <td>0.0</td>\n",
       "      <td>0.0</td>\n",
       "      <td>0.0</td>\n",
       "      <td>0.0</td>\n",
       "      <td>0.0</td>\n",
       "      <td>42</td>\n",
       "      <td>1</td>\n",
       "      <td>2018-10-16</td>\n",
       "      <td>1</td>\n",
       "      <td>3.0</td>\n",
       "    </tr>\n",
       "    <tr>\n",
       "      <th>2018-10-16 01:30:00</th>\n",
       "      <td>1.76</td>\n",
       "      <td>0.0</td>\n",
       "      <td>0.0</td>\n",
       "      <td>12.63</td>\n",
       "      <td>11.93</td>\n",
       "      <td>14.825</td>\n",
       "      <td>12.60</td>\n",
       "      <td>11.75</td>\n",
       "      <td>14.155</td>\n",
       "      <td>11.645</td>\n",
       "      <td>...</td>\n",
       "      <td>0.0</td>\n",
       "      <td>0.0</td>\n",
       "      <td>0.0</td>\n",
       "      <td>0.0</td>\n",
       "      <td>0.0</td>\n",
       "      <td>42</td>\n",
       "      <td>1</td>\n",
       "      <td>2018-10-16</td>\n",
       "      <td>1</td>\n",
       "      <td>4.0</td>\n",
       "    </tr>\n",
       "    <tr>\n",
       "      <th>2018-10-16 02:00:00</th>\n",
       "      <td>1.76</td>\n",
       "      <td>0.0</td>\n",
       "      <td>0.0</td>\n",
       "      <td>12.91</td>\n",
       "      <td>11.89</td>\n",
       "      <td>14.820</td>\n",
       "      <td>12.57</td>\n",
       "      <td>11.73</td>\n",
       "      <td>14.120</td>\n",
       "      <td>11.590</td>\n",
       "      <td>...</td>\n",
       "      <td>0.0</td>\n",
       "      <td>0.0</td>\n",
       "      <td>0.0</td>\n",
       "      <td>0.0</td>\n",
       "      <td>0.0</td>\n",
       "      <td>42</td>\n",
       "      <td>1</td>\n",
       "      <td>2018-10-16</td>\n",
       "      <td>2</td>\n",
       "      <td>5.0</td>\n",
       "    </tr>\n",
       "  </tbody>\n",
       "</table>\n",
       "<p>5 rows × 21 columns</p>\n",
       "</div>"
      ],
      "text/plain": [
       "                     demand_MW  irradiance_Wm-2  pv_power_mw  panel_temp_C  \\\n",
       "datetime                                                                     \n",
       "2018-10-16 00:00:00       1.95              0.0          0.0         12.41   \n",
       "2018-10-16 00:30:00       1.87              0.0          0.0         12.38   \n",
       "2018-10-16 01:00:00       1.80              0.0          0.0         12.40   \n",
       "2018-10-16 01:30:00       1.76              0.0          0.0         12.63   \n",
       "2018-10-16 02:00:00       1.76              0.0          0.0         12.91   \n",
       "\n",
       "                     temp_location3  temp_location6  temp_location2  \\\n",
       "datetime                                                              \n",
       "2018-10-16 00:00:00           11.65          14.870           12.67   \n",
       "2018-10-16 00:30:00           11.81          14.850           12.65   \n",
       "2018-10-16 01:00:00           11.97          14.830           12.63   \n",
       "2018-10-16 01:30:00           11.93          14.825           12.60   \n",
       "2018-10-16 02:00:00           11.89          14.820           12.57   \n",
       "\n",
       "                     temp_location4  temp_location5  temp_location1  ...  \\\n",
       "datetime                                                             ...   \n",
       "2018-10-16 00:00:00           11.45          14.190          11.740  ...   \n",
       "2018-10-16 00:30:00           11.61          14.190          11.720  ...   \n",
       "2018-10-16 01:00:00           11.77          14.190          11.700  ...   \n",
       "2018-10-16 01:30:00           11.75          14.155          11.645  ...   \n",
       "2018-10-16 02:00:00           11.73          14.120          11.590  ...   \n",
       "\n",
       "                     solar_location6  solar_location2  solar_location4  \\\n",
       "datetime                                                                 \n",
       "2018-10-16 00:00:00              0.0              0.0              0.0   \n",
       "2018-10-16 00:30:00              0.0              0.0              0.0   \n",
       "2018-10-16 01:00:00              0.0              0.0              0.0   \n",
       "2018-10-16 01:30:00              0.0              0.0              0.0   \n",
       "2018-10-16 02:00:00              0.0              0.0              0.0   \n",
       "\n",
       "                     solar_location5  solar_location1  week  dow        date  \\\n",
       "datetime                                                                       \n",
       "2018-10-16 00:00:00              0.0              0.0    42    1  2018-10-16   \n",
       "2018-10-16 00:30:00              0.0              0.0    42    1  2018-10-16   \n",
       "2018-10-16 01:00:00              0.0              0.0    42    1  2018-10-16   \n",
       "2018-10-16 01:30:00              0.0              0.0    42    1  2018-10-16   \n",
       "2018-10-16 02:00:00              0.0              0.0    42    1  2018-10-16   \n",
       "\n",
       "                    hour   sp  \n",
       "datetime                       \n",
       "2018-10-16 00:00:00    0  1.0  \n",
       "2018-10-16 00:30:00    0  2.0  \n",
       "2018-10-16 01:00:00    1  3.0  \n",
       "2018-10-16 01:30:00    1  4.0  \n",
       "2018-10-16 02:00:00    2  5.0  \n",
       "\n",
       "[5 rows x 21 columns]"
      ]
     },
     "execution_count": 4,
     "metadata": {},
     "output_type": "execute_result"
    }
   ],
   "source": [
    "first_day_prediction=datetime.datetime(2018,10,16).date()\n",
    "demand_and_solar_power = dp_task2.df.loc[(dp_task2.df.index.date >= first_day_prediction) & \n",
    "                                         (dp_task2.df.index.date < first_day_prediction+ datetime.timedelta(days=7)), :]\n",
    "demand_and_solar_power.head()"
   ]
  },
  {
   "cell_type": "markdown",
   "id": "extra-progress",
   "metadata": {},
   "source": [
    "## Real values score"
   ]
  },
  {
   "cell_type": "code",
   "execution_count": 5,
   "id": "attempted-providence",
   "metadata": {},
   "outputs": [],
   "source": [
    "BGBattery_path_real = 'Output/BGBattery_real_set1.csv'"
   ]
  },
  {
   "cell_type": "code",
   "execution_count": 6,
   "id": "minus-madison",
   "metadata": {},
   "outputs": [
    {
     "name": "stdout",
     "output_type": "stream",
     "text": [
      "100%|██████████| 7/7 [00:00<00:00, 96.77it/s]\n"
     ]
    },
    {
     "data": {
      "text/plain": [
       "(             r_peak   p_solar           s\n",
       " 20181016  37.089202   0.77479   94.561881\n",
       " 20181017  37.671233  0.655172   87.033538\n",
       " 20181018  39.578454       1.0  118.735363\n",
       " 20181019  36.658354       1.0  109.975062\n",
       " 20181020  41.561713       1.0  124.685139\n",
       " 20181021   39.02439       1.0  117.073171\n",
       " 20181022   40.28103       1.0  120.843091,\n",
       " r_peak      38.837768\n",
       " p_solar      0.918566\n",
       " s          110.415321\n",
       " dtype: float64)"
      ]
     },
     "execution_count": 6,
     "metadata": {},
     "output_type": "execute_result"
    }
   ],
   "source": [
    "BGBattery_sc_real = cfbd.ScoreComputer(BGBattery_path_real)\n",
    "BGBattery_sc_real.compute_scores(demand_and_solar_power, first_day_prediction)"
   ]
  },
  {
   "cell_type": "code",
   "execution_count": null,
   "id": "maritime-tattoo",
   "metadata": {},
   "outputs": [],
   "source": []
  },
  {
   "cell_type": "markdown",
   "id": "fourth-seafood",
   "metadata": {},
   "source": [
    "## Naive score"
   ]
  },
  {
   "cell_type": "code",
   "execution_count": 7,
   "id": "worse-realtor",
   "metadata": {},
   "outputs": [],
   "source": [
    "BGBattery_path_naive = 'Output/BGBattery_naive_set1.csv'"
   ]
  },
  {
   "cell_type": "code",
   "execution_count": 8,
   "id": "lightweight-jacksonville",
   "metadata": {},
   "outputs": [
    {
     "name": "stdout",
     "output_type": "stream",
     "text": [
      "100%|██████████| 7/7 [00:00<00:00, 99.83it/s]\n"
     ]
    },
    {
     "data": {
      "text/plain": [
       "(             r_peak   p_solar           s\n",
       " 20181016  33.333333  0.720842    81.38945\n",
       " 20181017  33.333333  0.653376   76.891753\n",
       " 20181018  33.957845  0.824894   89.981102\n",
       " 20181019  31.421446  0.933664   90.095569\n",
       " 20181020  37.531486       1.0  112.594458\n",
       " 20181021  34.390244       1.0  103.170732\n",
       " 20181022   35.59719  0.997498  106.613435,\n",
       " r_peak     34.223554\n",
       " p_solar     0.875753\n",
       " s          94.390928\n",
       " dtype: float64)"
      ]
     },
     "execution_count": 8,
     "metadata": {},
     "output_type": "execute_result"
    }
   ],
   "source": [
    "BGBattery_sc_naive = cfbd.ScoreComputer(BGBattery_path_naive)\n",
    "BGBattery_sc_naive.compute_scores(demand_and_solar_power, first_day_prediction)"
   ]
  },
  {
   "cell_type": "code",
   "execution_count": null,
   "id": "possible-wedding",
   "metadata": {},
   "outputs": [],
   "source": []
  },
  {
   "cell_type": "markdown",
   "id": "musical-flour",
   "metadata": {},
   "source": [
    "## Last model prediction"
   ]
  },
  {
   "cell_type": "code",
   "execution_count": 9,
   "id": "induced-appeal",
   "metadata": {},
   "outputs": [],
   "source": [
    "BGBattery_path_last_model = 'Output/BGBattery_last_model_set1.csv'"
   ]
  },
  {
   "cell_type": "code",
   "execution_count": 10,
   "id": "amber-validation",
   "metadata": {},
   "outputs": [
    {
     "name": "stdout",
     "output_type": "stream",
     "text": [
      "100%|██████████| 7/7 [00:00<00:00, 101.86it/s]\n"
     ]
    },
    {
     "data": {
      "text/plain": [
       "(             r_peak   p_solar           s\n",
       " 20181016   34.86072  0.680703   82.320333\n",
       " 20181017  32.281329  0.641804   73.717918\n",
       " 20181018  32.084569  0.998864   96.180829\n",
       " 20181019  34.118315  0.911008    96.28244\n",
       " 20181020  36.233697       1.0  108.701092\n",
       " 20181021  32.378049       1.0   97.134146\n",
       " 20181022  33.100963  0.999978   99.301444,\n",
       " r_peak     33.579663\n",
       " p_solar     0.890337\n",
       " s          93.376886\n",
       " dtype: float64)"
      ]
     },
     "execution_count": 10,
     "metadata": {},
     "output_type": "execute_result"
    }
   ],
   "source": [
    "BGBattery_sc_last_model = cfbd.ScoreComputer(BGBattery_path_last_model)\n",
    "BGBattery_sc_last_model.compute_scores(demand_and_solar_power, first_day_prediction)"
   ]
  },
  {
   "cell_type": "code",
   "execution_count": null,
   "id": "middle-norwegian",
   "metadata": {},
   "outputs": [],
   "source": []
  }
 ],
 "metadata": {
  "kernelspec": {
   "display_name": "Python 3",
   "language": "python",
   "name": "python3"
  },
  "language_info": {
   "codemirror_mode": {
    "name": "ipython",
    "version": 3
   },
   "file_extension": ".py",
   "mimetype": "text/x-python",
   "name": "python",
   "nbconvert_exporter": "python",
   "pygments_lexer": "ipython3",
   "version": "3.7.9"
  }
 },
 "nbformat": 4,
 "nbformat_minor": 5
}
