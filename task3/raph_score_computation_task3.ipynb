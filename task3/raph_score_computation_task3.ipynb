{
 "cells": [
  {
   "cell_type": "code",
   "execution_count": 1,
   "id": "expensive-contemporary",
   "metadata": {},
   "outputs": [],
   "source": [
    "import pandas as pd\n",
    "import matplotlib.pyplot as plt\n",
    "import seaborn as sns\n",
    "import numpy as np\n",
    "from tqdm import tqdm\n",
    "import sys\n",
    "import os\n",
    "sys.path.append(os.path.abspath('../common/'))\n",
    "import common_functions_by_date as cfbd\n",
    "import datetime"
   ]
  },
  {
   "cell_type": "code",
   "execution_count": 2,
   "id": "drawn-cabinet",
   "metadata": {},
   "outputs": [],
   "source": [
    "demand_task4_path = '../task4/Input/demand_train_set4.csv'\n",
    "solar_power_task4_path = '../task4/Input/pv_train_set4.csv'\n",
    "weather_task4_path = '../task4/Input/weather_train_set4.csv'\n",
    "dp_task4 = cfbd.DataPreprocesser(demand_path=demand_task4_path, solar_path=solar_power_task4_path, weather_path=weather_task4_path)\n",
    "dp_task4.load_df()\n",
    "dp_task4.remove_nan()\n",
    "dp_task4.interpolate_df()"
   ]
  },
  {
   "cell_type": "code",
   "execution_count": 3,
   "id": "systematic-texas",
   "metadata": {},
   "outputs": [
    {
     "data": {
      "text/html": [
       "<div>\n",
       "<style scoped>\n",
       "    .dataframe tbody tr th:only-of-type {\n",
       "        vertical-align: middle;\n",
       "    }\n",
       "\n",
       "    .dataframe tbody tr th {\n",
       "        vertical-align: top;\n",
       "    }\n",
       "\n",
       "    .dataframe thead th {\n",
       "        text-align: right;\n",
       "    }\n",
       "</style>\n",
       "<table border=\"1\" class=\"dataframe\">\n",
       "  <thead>\n",
       "    <tr style=\"text-align: right;\">\n",
       "      <th></th>\n",
       "      <th>demand_MW</th>\n",
       "      <th>irradiance_Wm-2</th>\n",
       "      <th>pv_power_mw</th>\n",
       "      <th>panel_temp_C</th>\n",
       "      <th>temp_location3</th>\n",
       "      <th>temp_location6</th>\n",
       "      <th>temp_location2</th>\n",
       "      <th>temp_location4</th>\n",
       "      <th>temp_location5</th>\n",
       "      <th>temp_location1</th>\n",
       "      <th>...</th>\n",
       "      <th>solar_location6</th>\n",
       "      <th>solar_location2</th>\n",
       "      <th>solar_location4</th>\n",
       "      <th>solar_location5</th>\n",
       "      <th>solar_location1</th>\n",
       "      <th>week</th>\n",
       "      <th>dow</th>\n",
       "      <th>date</th>\n",
       "      <th>hour</th>\n",
       "      <th>sp</th>\n",
       "    </tr>\n",
       "    <tr>\n",
       "      <th>datetime</th>\n",
       "      <th></th>\n",
       "      <th></th>\n",
       "      <th></th>\n",
       "      <th></th>\n",
       "      <th></th>\n",
       "      <th></th>\n",
       "      <th></th>\n",
       "      <th></th>\n",
       "      <th></th>\n",
       "      <th></th>\n",
       "      <th></th>\n",
       "      <th></th>\n",
       "      <th></th>\n",
       "      <th></th>\n",
       "      <th></th>\n",
       "      <th></th>\n",
       "      <th></th>\n",
       "      <th></th>\n",
       "      <th></th>\n",
       "      <th></th>\n",
       "      <th></th>\n",
       "    </tr>\n",
       "  </thead>\n",
       "  <tbody>\n",
       "    <tr>\n",
       "      <th>2019-12-18 00:00:00</th>\n",
       "      <td>2.62</td>\n",
       "      <td>0.0</td>\n",
       "      <td>0.0</td>\n",
       "      <td>3.39</td>\n",
       "      <td>1.980</td>\n",
       "      <td>9.770</td>\n",
       "      <td>4.430</td>\n",
       "      <td>3.36</td>\n",
       "      <td>9.690</td>\n",
       "      <td>4.040</td>\n",
       "      <td>...</td>\n",
       "      <td>0.0</td>\n",
       "      <td>0.0</td>\n",
       "      <td>0.0</td>\n",
       "      <td>0.0</td>\n",
       "      <td>0.0</td>\n",
       "      <td>51</td>\n",
       "      <td>2</td>\n",
       "      <td>2019-12-18</td>\n",
       "      <td>0</td>\n",
       "      <td>1.0</td>\n",
       "    </tr>\n",
       "    <tr>\n",
       "      <th>2019-12-18 00:30:00</th>\n",
       "      <td>2.56</td>\n",
       "      <td>0.0</td>\n",
       "      <td>0.0</td>\n",
       "      <td>1.85</td>\n",
       "      <td>1.855</td>\n",
       "      <td>9.805</td>\n",
       "      <td>4.375</td>\n",
       "      <td>3.22</td>\n",
       "      <td>9.740</td>\n",
       "      <td>3.980</td>\n",
       "      <td>...</td>\n",
       "      <td>0.0</td>\n",
       "      <td>0.0</td>\n",
       "      <td>0.0</td>\n",
       "      <td>0.0</td>\n",
       "      <td>0.0</td>\n",
       "      <td>51</td>\n",
       "      <td>2</td>\n",
       "      <td>2019-12-18</td>\n",
       "      <td>0</td>\n",
       "      <td>2.0</td>\n",
       "    </tr>\n",
       "    <tr>\n",
       "      <th>2019-12-18 01:00:00</th>\n",
       "      <td>2.43</td>\n",
       "      <td>0.0</td>\n",
       "      <td>0.0</td>\n",
       "      <td>3.62</td>\n",
       "      <td>1.730</td>\n",
       "      <td>9.840</td>\n",
       "      <td>4.320</td>\n",
       "      <td>3.08</td>\n",
       "      <td>9.790</td>\n",
       "      <td>3.920</td>\n",
       "      <td>...</td>\n",
       "      <td>0.0</td>\n",
       "      <td>0.0</td>\n",
       "      <td>0.0</td>\n",
       "      <td>0.0</td>\n",
       "      <td>0.0</td>\n",
       "      <td>51</td>\n",
       "      <td>2</td>\n",
       "      <td>2019-12-18</td>\n",
       "      <td>1</td>\n",
       "      <td>3.0</td>\n",
       "    </tr>\n",
       "    <tr>\n",
       "      <th>2019-12-18 01:30:00</th>\n",
       "      <td>2.35</td>\n",
       "      <td>0.0</td>\n",
       "      <td>0.0</td>\n",
       "      <td>4.25</td>\n",
       "      <td>1.640</td>\n",
       "      <td>9.900</td>\n",
       "      <td>4.340</td>\n",
       "      <td>2.83</td>\n",
       "      <td>9.875</td>\n",
       "      <td>3.965</td>\n",
       "      <td>...</td>\n",
       "      <td>0.0</td>\n",
       "      <td>0.0</td>\n",
       "      <td>0.0</td>\n",
       "      <td>0.0</td>\n",
       "      <td>0.0</td>\n",
       "      <td>51</td>\n",
       "      <td>2</td>\n",
       "      <td>2019-12-18</td>\n",
       "      <td>1</td>\n",
       "      <td>4.0</td>\n",
       "    </tr>\n",
       "    <tr>\n",
       "      <th>2019-12-18 02:00:00</th>\n",
       "      <td>2.31</td>\n",
       "      <td>0.0</td>\n",
       "      <td>0.0</td>\n",
       "      <td>3.82</td>\n",
       "      <td>1.550</td>\n",
       "      <td>9.960</td>\n",
       "      <td>4.360</td>\n",
       "      <td>2.58</td>\n",
       "      <td>9.960</td>\n",
       "      <td>4.010</td>\n",
       "      <td>...</td>\n",
       "      <td>0.0</td>\n",
       "      <td>0.0</td>\n",
       "      <td>0.0</td>\n",
       "      <td>0.0</td>\n",
       "      <td>0.0</td>\n",
       "      <td>51</td>\n",
       "      <td>2</td>\n",
       "      <td>2019-12-18</td>\n",
       "      <td>2</td>\n",
       "      <td>5.0</td>\n",
       "    </tr>\n",
       "  </tbody>\n",
       "</table>\n",
       "<p>5 rows × 21 columns</p>\n",
       "</div>"
      ],
      "text/plain": [
       "                     demand_MW  irradiance_Wm-2  pv_power_mw  panel_temp_C  \\\n",
       "datetime                                                                     \n",
       "2019-12-18 00:00:00       2.62              0.0          0.0          3.39   \n",
       "2019-12-18 00:30:00       2.56              0.0          0.0          1.85   \n",
       "2019-12-18 01:00:00       2.43              0.0          0.0          3.62   \n",
       "2019-12-18 01:30:00       2.35              0.0          0.0          4.25   \n",
       "2019-12-18 02:00:00       2.31              0.0          0.0          3.82   \n",
       "\n",
       "                     temp_location3  temp_location6  temp_location2  \\\n",
       "datetime                                                              \n",
       "2019-12-18 00:00:00           1.980           9.770           4.430   \n",
       "2019-12-18 00:30:00           1.855           9.805           4.375   \n",
       "2019-12-18 01:00:00           1.730           9.840           4.320   \n",
       "2019-12-18 01:30:00           1.640           9.900           4.340   \n",
       "2019-12-18 02:00:00           1.550           9.960           4.360   \n",
       "\n",
       "                     temp_location4  temp_location5  temp_location1  ...  \\\n",
       "datetime                                                             ...   \n",
       "2019-12-18 00:00:00            3.36           9.690           4.040  ...   \n",
       "2019-12-18 00:30:00            3.22           9.740           3.980  ...   \n",
       "2019-12-18 01:00:00            3.08           9.790           3.920  ...   \n",
       "2019-12-18 01:30:00            2.83           9.875           3.965  ...   \n",
       "2019-12-18 02:00:00            2.58           9.960           4.010  ...   \n",
       "\n",
       "                     solar_location6  solar_location2  solar_location4  \\\n",
       "datetime                                                                 \n",
       "2019-12-18 00:00:00              0.0              0.0              0.0   \n",
       "2019-12-18 00:30:00              0.0              0.0              0.0   \n",
       "2019-12-18 01:00:00              0.0              0.0              0.0   \n",
       "2019-12-18 01:30:00              0.0              0.0              0.0   \n",
       "2019-12-18 02:00:00              0.0              0.0              0.0   \n",
       "\n",
       "                     solar_location5  solar_location1  week  dow        date  \\\n",
       "datetime                                                                       \n",
       "2019-12-18 00:00:00              0.0              0.0    51    2  2019-12-18   \n",
       "2019-12-18 00:30:00              0.0              0.0    51    2  2019-12-18   \n",
       "2019-12-18 01:00:00              0.0              0.0    51    2  2019-12-18   \n",
       "2019-12-18 01:30:00              0.0              0.0    51    2  2019-12-18   \n",
       "2019-12-18 02:00:00              0.0              0.0    51    2  2019-12-18   \n",
       "\n",
       "                    hour   sp  \n",
       "datetime                       \n",
       "2019-12-18 00:00:00    0  1.0  \n",
       "2019-12-18 00:30:00    0  2.0  \n",
       "2019-12-18 01:00:00    1  3.0  \n",
       "2019-12-18 01:30:00    1  4.0  \n",
       "2019-12-18 02:00:00    2  5.0  \n",
       "\n",
       "[5 rows x 21 columns]"
      ]
     },
     "execution_count": 3,
     "metadata": {},
     "output_type": "execute_result"
    }
   ],
   "source": [
    "first_day_prediction=datetime.datetime(2019,12,18).date()\n",
    "demand_and_solar_power = dp_task4.df.loc[(dp_task4.df.index.date >= first_day_prediction) & \n",
    "                                         (dp_task4.df.index.date < first_day_prediction+ datetime.timedelta(days=7)), :]\n",
    "demand_and_solar_power.head()"
   ]
  },
  {
   "cell_type": "markdown",
   "id": "broadband-begin",
   "metadata": {},
   "source": [
    "## Score with real values"
   ]
  },
  {
   "cell_type": "code",
   "execution_count": 4,
   "id": "broken-april",
   "metadata": {},
   "outputs": [],
   "source": [
    "BGBattery_path_real = 'Output/BGBattery_real_set3.csv'"
   ]
  },
  {
   "cell_type": "code",
   "execution_count": 5,
   "id": "breeding-direction",
   "metadata": {},
   "outputs": [
    {
     "name": "stdout",
     "output_type": "stream",
     "text": [
      "100%|██████████| 7/7 [00:00<00:00, 81.49it/s]\n"
     ]
    },
    {
     "data": {
      "text/plain": [
       "(             r_peak   p_solar          s\n",
       " 20191218   31.48855  0.088235  37.045352\n",
       " 20191219  31.048387  0.055184  34.475132\n",
       " 20191220  33.894737  0.927913  96.797459\n",
       " 20191221  33.970276  0.220353  48.941197\n",
       " 20191222  33.894737  0.787752  87.296008\n",
       " 20191223  33.826638  0.602671  74.599315\n",
       " 20191224  32.905983  0.442953  62.057592,\n",
       " r_peak     33.004187\n",
       " p_solar     0.446437\n",
       " s          63.030294\n",
       " dtype: float64)"
      ]
     },
     "execution_count": 5,
     "metadata": {},
     "output_type": "execute_result"
    }
   ],
   "source": [
    "BGBattery_sc_real = cfbd.ScoreComputer(BGBattery_path_real)\n",
    "BGBattery_sc_real.compute_scores(demand_and_solar_power, first_day_prediction)"
   ]
  },
  {
   "cell_type": "markdown",
   "id": "expired-psychiatry",
   "metadata": {},
   "source": [
    "## Naive score"
   ]
  },
  {
   "cell_type": "code",
   "execution_count": 6,
   "id": "hairy-module",
   "metadata": {},
   "outputs": [],
   "source": [
    "BGBattery_path_naive = 'Output/BGBattery_naive_set3.csv'"
   ]
  },
  {
   "cell_type": "code",
   "execution_count": 7,
   "id": "palestinian-chain",
   "metadata": {},
   "outputs": [
    {
     "name": "stdout",
     "output_type": "stream",
     "text": [
      "100%|██████████| 7/7 [00:00<00:00, 114.16it/s]\n"
     ]
    },
    {
     "data": {
      "text/plain": [
       "(             r_peak   p_solar          s\n",
       " 20191218  24.045802  0.087646  28.260842\n",
       " 20191219  26.612903  0.053885  29.480957\n",
       " 20191220  29.684211  0.854206  80.397046\n",
       " 20191221  27.813163  0.220353  40.070605\n",
       " 20191222  29.263158  0.717484  71.254873\n",
       " 20191223  28.964059  0.605705  64.051393\n",
       " 20191224  22.222222  0.435371  41.572059,\n",
       " r_peak     26.943645\n",
       " p_solar     0.424950\n",
       " s          50.726825\n",
       " dtype: float64)"
      ]
     },
     "execution_count": 7,
     "metadata": {},
     "output_type": "execute_result"
    }
   ],
   "source": [
    "BGBattery_sc_naive = cfbd.ScoreComputer(BGBattery_path_naive)\n",
    "BGBattery_sc_naive.compute_scores(demand_and_solar_power, first_day_prediction)"
   ]
  },
  {
   "cell_type": "markdown",
   "id": "honey-madonna",
   "metadata": {},
   "source": [
    "## Last model prediction score"
   ]
  },
  {
   "cell_type": "code",
   "execution_count": 8,
   "id": "activated-removal",
   "metadata": {},
   "outputs": [],
   "source": [
    "BGBattery_path_last_model = 'Output/BGBattery_last_model_set3.csv'"
   ]
  },
  {
   "cell_type": "code",
   "execution_count": 9,
   "id": "specified-african",
   "metadata": {},
   "outputs": [
    {
     "name": "stdout",
     "output_type": "stream",
     "text": [
      "100%|██████████| 7/7 [00:00<00:00, 109.26it/s]\n"
     ]
    },
    {
     "data": {
      "text/plain": [
       "(             r_peak   p_solar          s\n",
       " 20191218  25.620441  0.087778  30.118249\n",
       " 20191219  28.043907  0.054271  31.087867\n",
       " 20191220  30.839064  0.860165  83.892442\n",
       " 20191221  28.725643  0.217485   41.22043\n",
       " 20191222  30.572632  0.760498  77.073495\n",
       " 20191223  29.349072  0.602576  64.719154\n",
       " 20191224  24.481956  0.442191  46.133373,\n",
       " r_peak     28.233245\n",
       " p_solar     0.432138\n",
       " s          53.463573\n",
       " dtype: float64)"
      ]
     },
     "execution_count": 9,
     "metadata": {},
     "output_type": "execute_result"
    }
   ],
   "source": [
    "BGBattery_sc_last_model = cfbd.ScoreComputer(BGBattery_path_last_model)\n",
    "BGBattery_sc_last_model.compute_scores(demand_and_solar_power, first_day_prediction)"
   ]
  },
  {
   "cell_type": "code",
   "execution_count": null,
   "id": "covered-showcase",
   "metadata": {},
   "outputs": [],
   "source": []
  }
 ],
 "metadata": {
  "kernelspec": {
   "display_name": "Python 3",
   "language": "python",
   "name": "python3"
  },
  "language_info": {
   "codemirror_mode": {
    "name": "ipython",
    "version": 3
   },
   "file_extension": ".py",
   "mimetype": "text/x-python",
   "name": "python",
   "nbconvert_exporter": "python",
   "pygments_lexer": "ipython3",
   "version": "3.7.9"
  }
 },
 "nbformat": 4,
 "nbformat_minor": 5
}
