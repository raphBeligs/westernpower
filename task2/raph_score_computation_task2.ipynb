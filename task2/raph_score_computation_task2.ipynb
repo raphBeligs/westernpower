{
 "cells": [
  {
   "cell_type": "code",
   "execution_count": 1,
   "id": "built-fluid",
   "metadata": {},
   "outputs": [],
   "source": [
    "import pandas as pd\n",
    "import matplotlib.pyplot as plt\n",
    "import seaborn as sns\n",
    "import numpy as np\n",
    "from tqdm import tqdm\n",
    "import sys\n",
    "import os\n",
    "sys.path.append(os.path.abspath('../common/'))\n",
    "import common_functions_by_date as cfbd\n",
    "import datetime"
   ]
  },
  {
   "cell_type": "code",
   "execution_count": 2,
   "id": "dental-phenomenon",
   "metadata": {},
   "outputs": [],
   "source": [
    "demand_task3_path = '../task3/Input/demand_train_set3.csv'\n",
    "solar_power_task3_path = '../task3/Input/pv_train_set3.csv'\n",
    "weather_task3_path = '../task3/Input/weather_train_set3.csv'\n",
    "dp_task3 = cfbd.DataPreprocesser(demand_path=demand_task3_path, solar_path=solar_power_task3_path, weather_path=weather_task3_path)\n",
    "dp_task3.load_df()\n",
    "dp_task3.remove_nan()\n",
    "dp_task3.interpolate_df()"
   ]
  },
  {
   "cell_type": "code",
   "execution_count": 3,
   "id": "alert-blink",
   "metadata": {},
   "outputs": [
    {
     "data": {
      "text/html": [
       "<div>\n",
       "<style scoped>\n",
       "    .dataframe tbody tr th:only-of-type {\n",
       "        vertical-align: middle;\n",
       "    }\n",
       "\n",
       "    .dataframe tbody tr th {\n",
       "        vertical-align: top;\n",
       "    }\n",
       "\n",
       "    .dataframe thead th {\n",
       "        text-align: right;\n",
       "    }\n",
       "</style>\n",
       "<table border=\"1\" class=\"dataframe\">\n",
       "  <thead>\n",
       "    <tr style=\"text-align: right;\">\n",
       "      <th></th>\n",
       "      <th>demand_MW</th>\n",
       "      <th>irradiance_Wm-2</th>\n",
       "      <th>pv_power_mw</th>\n",
       "      <th>panel_temp_C</th>\n",
       "      <th>temp_location3</th>\n",
       "      <th>temp_location6</th>\n",
       "      <th>temp_location2</th>\n",
       "      <th>temp_location4</th>\n",
       "      <th>temp_location5</th>\n",
       "      <th>temp_location1</th>\n",
       "      <th>...</th>\n",
       "      <th>solar_location6</th>\n",
       "      <th>solar_location2</th>\n",
       "      <th>solar_location4</th>\n",
       "      <th>solar_location5</th>\n",
       "      <th>solar_location1</th>\n",
       "      <th>week</th>\n",
       "      <th>dow</th>\n",
       "      <th>date</th>\n",
       "      <th>hour</th>\n",
       "      <th>sp</th>\n",
       "    </tr>\n",
       "    <tr>\n",
       "      <th>datetime</th>\n",
       "      <th></th>\n",
       "      <th></th>\n",
       "      <th></th>\n",
       "      <th></th>\n",
       "      <th></th>\n",
       "      <th></th>\n",
       "      <th></th>\n",
       "      <th></th>\n",
       "      <th></th>\n",
       "      <th></th>\n",
       "      <th></th>\n",
       "      <th></th>\n",
       "      <th></th>\n",
       "      <th></th>\n",
       "      <th></th>\n",
       "      <th></th>\n",
       "      <th></th>\n",
       "      <th></th>\n",
       "      <th></th>\n",
       "      <th></th>\n",
       "      <th></th>\n",
       "    </tr>\n",
       "  </thead>\n",
       "  <tbody>\n",
       "    <tr>\n",
       "      <th>2019-03-10 00:00:00</th>\n",
       "      <td>2.68</td>\n",
       "      <td>0.0</td>\n",
       "      <td>0.0</td>\n",
       "      <td>9.55</td>\n",
       "      <td>7.01</td>\n",
       "      <td>11.220</td>\n",
       "      <td>8.98</td>\n",
       "      <td>5.830</td>\n",
       "      <td>11.590</td>\n",
       "      <td>9.690</td>\n",
       "      <td>...</td>\n",
       "      <td>0.0</td>\n",
       "      <td>0.0</td>\n",
       "      <td>0.0</td>\n",
       "      <td>0.0</td>\n",
       "      <td>0.0</td>\n",
       "      <td>10</td>\n",
       "      <td>6</td>\n",
       "      <td>2019-03-10</td>\n",
       "      <td>0</td>\n",
       "      <td>1.0</td>\n",
       "    </tr>\n",
       "    <tr>\n",
       "      <th>2019-03-10 00:30:00</th>\n",
       "      <td>2.59</td>\n",
       "      <td>0.0</td>\n",
       "      <td>0.0</td>\n",
       "      <td>9.50</td>\n",
       "      <td>7.74</td>\n",
       "      <td>11.425</td>\n",
       "      <td>9.91</td>\n",
       "      <td>5.745</td>\n",
       "      <td>11.800</td>\n",
       "      <td>10.450</td>\n",
       "      <td>...</td>\n",
       "      <td>0.0</td>\n",
       "      <td>0.0</td>\n",
       "      <td>0.0</td>\n",
       "      <td>0.0</td>\n",
       "      <td>0.0</td>\n",
       "      <td>10</td>\n",
       "      <td>6</td>\n",
       "      <td>2019-03-10</td>\n",
       "      <td>0</td>\n",
       "      <td>2.0</td>\n",
       "    </tr>\n",
       "    <tr>\n",
       "      <th>2019-03-10 01:00:00</th>\n",
       "      <td>2.42</td>\n",
       "      <td>0.0</td>\n",
       "      <td>0.0</td>\n",
       "      <td>9.41</td>\n",
       "      <td>8.47</td>\n",
       "      <td>11.630</td>\n",
       "      <td>10.84</td>\n",
       "      <td>5.660</td>\n",
       "      <td>12.010</td>\n",
       "      <td>11.210</td>\n",
       "      <td>...</td>\n",
       "      <td>0.0</td>\n",
       "      <td>0.0</td>\n",
       "      <td>0.0</td>\n",
       "      <td>0.0</td>\n",
       "      <td>0.0</td>\n",
       "      <td>10</td>\n",
       "      <td>6</td>\n",
       "      <td>2019-03-10</td>\n",
       "      <td>1</td>\n",
       "      <td>3.0</td>\n",
       "    </tr>\n",
       "    <tr>\n",
       "      <th>2019-03-10 01:30:00</th>\n",
       "      <td>2.30</td>\n",
       "      <td>0.0</td>\n",
       "      <td>0.0</td>\n",
       "      <td>9.47</td>\n",
       "      <td>9.57</td>\n",
       "      <td>11.690</td>\n",
       "      <td>11.08</td>\n",
       "      <td>5.785</td>\n",
       "      <td>12.075</td>\n",
       "      <td>11.225</td>\n",
       "      <td>...</td>\n",
       "      <td>0.0</td>\n",
       "      <td>0.0</td>\n",
       "      <td>0.0</td>\n",
       "      <td>0.0</td>\n",
       "      <td>0.0</td>\n",
       "      <td>10</td>\n",
       "      <td>6</td>\n",
       "      <td>2019-03-10</td>\n",
       "      <td>1</td>\n",
       "      <td>4.0</td>\n",
       "    </tr>\n",
       "    <tr>\n",
       "      <th>2019-03-10 02:00:00</th>\n",
       "      <td>2.26</td>\n",
       "      <td>0.0</td>\n",
       "      <td>0.0</td>\n",
       "      <td>9.46</td>\n",
       "      <td>10.67</td>\n",
       "      <td>11.750</td>\n",
       "      <td>11.32</td>\n",
       "      <td>5.910</td>\n",
       "      <td>12.140</td>\n",
       "      <td>11.240</td>\n",
       "      <td>...</td>\n",
       "      <td>0.0</td>\n",
       "      <td>0.0</td>\n",
       "      <td>0.0</td>\n",
       "      <td>0.0</td>\n",
       "      <td>0.0</td>\n",
       "      <td>10</td>\n",
       "      <td>6</td>\n",
       "      <td>2019-03-10</td>\n",
       "      <td>2</td>\n",
       "      <td>5.0</td>\n",
       "    </tr>\n",
       "  </tbody>\n",
       "</table>\n",
       "<p>5 rows × 21 columns</p>\n",
       "</div>"
      ],
      "text/plain": [
       "                     demand_MW  irradiance_Wm-2  pv_power_mw  panel_temp_C  \\\n",
       "datetime                                                                     \n",
       "2019-03-10 00:00:00       2.68              0.0          0.0          9.55   \n",
       "2019-03-10 00:30:00       2.59              0.0          0.0          9.50   \n",
       "2019-03-10 01:00:00       2.42              0.0          0.0          9.41   \n",
       "2019-03-10 01:30:00       2.30              0.0          0.0          9.47   \n",
       "2019-03-10 02:00:00       2.26              0.0          0.0          9.46   \n",
       "\n",
       "                     temp_location3  temp_location6  temp_location2  \\\n",
       "datetime                                                              \n",
       "2019-03-10 00:00:00            7.01          11.220            8.98   \n",
       "2019-03-10 00:30:00            7.74          11.425            9.91   \n",
       "2019-03-10 01:00:00            8.47          11.630           10.84   \n",
       "2019-03-10 01:30:00            9.57          11.690           11.08   \n",
       "2019-03-10 02:00:00           10.67          11.750           11.32   \n",
       "\n",
       "                     temp_location4  temp_location5  temp_location1  ...  \\\n",
       "datetime                                                             ...   \n",
       "2019-03-10 00:00:00           5.830          11.590           9.690  ...   \n",
       "2019-03-10 00:30:00           5.745          11.800          10.450  ...   \n",
       "2019-03-10 01:00:00           5.660          12.010          11.210  ...   \n",
       "2019-03-10 01:30:00           5.785          12.075          11.225  ...   \n",
       "2019-03-10 02:00:00           5.910          12.140          11.240  ...   \n",
       "\n",
       "                     solar_location6  solar_location2  solar_location4  \\\n",
       "datetime                                                                 \n",
       "2019-03-10 00:00:00              0.0              0.0              0.0   \n",
       "2019-03-10 00:30:00              0.0              0.0              0.0   \n",
       "2019-03-10 01:00:00              0.0              0.0              0.0   \n",
       "2019-03-10 01:30:00              0.0              0.0              0.0   \n",
       "2019-03-10 02:00:00              0.0              0.0              0.0   \n",
       "\n",
       "                     solar_location5  solar_location1  week  dow        date  \\\n",
       "datetime                                                                       \n",
       "2019-03-10 00:00:00              0.0              0.0    10    6  2019-03-10   \n",
       "2019-03-10 00:30:00              0.0              0.0    10    6  2019-03-10   \n",
       "2019-03-10 01:00:00              0.0              0.0    10    6  2019-03-10   \n",
       "2019-03-10 01:30:00              0.0              0.0    10    6  2019-03-10   \n",
       "2019-03-10 02:00:00              0.0              0.0    10    6  2019-03-10   \n",
       "\n",
       "                    hour   sp  \n",
       "datetime                       \n",
       "2019-03-10 00:00:00    0  1.0  \n",
       "2019-03-10 00:30:00    0  2.0  \n",
       "2019-03-10 01:00:00    1  3.0  \n",
       "2019-03-10 01:30:00    1  4.0  \n",
       "2019-03-10 02:00:00    2  5.0  \n",
       "\n",
       "[5 rows x 21 columns]"
      ]
     },
     "execution_count": 3,
     "metadata": {},
     "output_type": "execute_result"
    }
   ],
   "source": [
    "first_day_prediction=datetime.datetime(2019,3,10).date()\n",
    "demand_and_solar_power = dp_task3.df.loc[(dp_task3.df.index.date >= first_day_prediction) & \n",
    "                                         (dp_task3.df.index.date < first_day_prediction+ datetime.timedelta(days=7)), :]\n",
    "demand_and_solar_power.head()"
   ]
  },
  {
   "cell_type": "markdown",
   "id": "coastal-index",
   "metadata": {},
   "source": [
    "## Score with real values"
   ]
  },
  {
   "cell_type": "code",
   "execution_count": 4,
   "id": "adjusted-transformation",
   "metadata": {},
   "outputs": [],
   "source": [
    "BGBattery_path_real = 'Output/BGBattery_real_set2.csv'"
   ]
  },
  {
   "cell_type": "code",
   "execution_count": 5,
   "id": "liquid-gibson",
   "metadata": {},
   "outputs": [
    {
     "name": "stdout",
     "output_type": "stream",
     "text": [
      "100%|██████████| 7/7 [00:00<00:00, 67.74it/s]\n"
     ]
    },
    {
     "data": {
      "text/plain": [
       "(             r_peak   p_solar           s\n",
       " 20190310  32.826087       1.0   98.478261\n",
       " 20190311  37.684211       1.0  113.052632\n",
       " 20190312  34.917355  0.867782    95.51869\n",
       " 20190313   34.36214       1.0   103.08642\n",
       " 20190314  33.958333  0.566751   72.450147\n",
       " 20190315  34.401709  0.560201   72.945431\n",
       " 20190316  33.406114  0.717647   81.353712,\n",
       " r_peak     34.507993\n",
       " p_solar     0.816054\n",
       " s          90.983613\n",
       " dtype: float64)"
      ]
     },
     "execution_count": 5,
     "metadata": {},
     "output_type": "execute_result"
    }
   ],
   "source": [
    "BGBattery_sc_real = cfbd.ScoreComputer(BGBattery_path_real)\n",
    "BGBattery_sc_real.compute_scores(demand_and_solar_power, first_day_prediction)"
   ]
  },
  {
   "cell_type": "code",
   "execution_count": null,
   "id": "swedish-offering",
   "metadata": {},
   "outputs": [],
   "source": []
  },
  {
   "cell_type": "markdown",
   "id": "stupid-reservation",
   "metadata": {},
   "source": [
    "## Naive score"
   ]
  },
  {
   "cell_type": "code",
   "execution_count": 6,
   "id": "included-client",
   "metadata": {},
   "outputs": [],
   "source": [
    "BGBattery_path_naive = 'Output/BGBattery_naive_set2.csv'"
   ]
  },
  {
   "cell_type": "code",
   "execution_count": 7,
   "id": "addressed-invention",
   "metadata": {},
   "outputs": [
    {
     "name": "stdout",
     "output_type": "stream",
     "text": [
      "100%|██████████| 7/7 [00:00<00:00, 77.46it/s]\n"
     ]
    },
    {
     "data": {
      "text/plain": [
       "(             r_peak   p_solar           s\n",
       " 20190310  28.695652       1.0   86.086957\n",
       " 20190311  33.473684       1.0  100.421053\n",
       " 20190312  29.545455  0.361673   50.917027\n",
       " 20190313  27.572016  0.980405   81.635491\n",
       " 20190314      26.25  0.554079   55.339128\n",
       " 20190315  31.623932  0.545455   66.122812\n",
       " 20190316  30.131004  0.615714   67.235193,\n",
       " r_peak     29.613106\n",
       " p_solar     0.722475\n",
       " s          72.536809\n",
       " dtype: float64)"
      ]
     },
     "execution_count": 7,
     "metadata": {},
     "output_type": "execute_result"
    }
   ],
   "source": [
    "BGBattery_sc_naive = cfbd.ScoreComputer(BGBattery_path_naive)\n",
    "BGBattery_sc_naive.compute_scores(demand_and_solar_power, first_day_prediction)"
   ]
  },
  {
   "cell_type": "code",
   "execution_count": null,
   "id": "banner-mobile",
   "metadata": {},
   "outputs": [],
   "source": []
  },
  {
   "cell_type": "markdown",
   "id": "small-component",
   "metadata": {},
   "source": [
    "## Last model score"
   ]
  },
  {
   "cell_type": "code",
   "execution_count": 8,
   "id": "congressional-authority",
   "metadata": {},
   "outputs": [],
   "source": [
    "BGBattery_path_last_model = 'Output/BGBattery_last_model_set2.csv'"
   ]
  },
  {
   "cell_type": "code",
   "execution_count": 9,
   "id": "local-porter",
   "metadata": {},
   "outputs": [
    {
     "name": "stdout",
     "output_type": "stream",
     "text": [
      "100%|██████████| 7/7 [00:00<00:00, 98.60it/s]\n"
     ]
    },
    {
     "data": {
      "text/plain": [
       "(             r_peak   p_solar           s\n",
       " 20190310  29.703623  0.999801   89.099068\n",
       " 20190311   34.78269  0.999163  104.289868\n",
       " 20190312  29.592287   0.69838   70.925634\n",
       " 20190313  30.600366  0.998938    91.73613\n",
       " 20190314  31.912037  0.566497   68.068189\n",
       " 20190315  31.274691  0.561175   66.375845\n",
       " 20190316  31.267831  0.674814    73.46778,\n",
       " r_peak     31.304789\n",
       " p_solar     0.785539\n",
       " s          80.566074\n",
       " dtype: float64)"
      ]
     },
     "execution_count": 9,
     "metadata": {},
     "output_type": "execute_result"
    }
   ],
   "source": [
    "BGBattery_sc_last_model = cfbd.ScoreComputer(BGBattery_path_last_model)\n",
    "BGBattery_sc_last_model.compute_scores(demand_and_solar_power, first_day_prediction)"
   ]
  },
  {
   "cell_type": "code",
   "execution_count": null,
   "id": "young-designer",
   "metadata": {},
   "outputs": [],
   "source": []
  }
 ],
 "metadata": {
  "kernelspec": {
   "display_name": "Python 3",
   "language": "python",
   "name": "python3"
  },
  "language_info": {
   "codemirror_mode": {
    "name": "ipython",
    "version": 3
   },
   "file_extension": ".py",
   "mimetype": "text/x-python",
   "name": "python",
   "nbconvert_exporter": "python",
   "pygments_lexer": "ipython3",
   "version": "3.7.9"
  }
 },
 "nbformat": 4,
 "nbformat_minor": 5
}
