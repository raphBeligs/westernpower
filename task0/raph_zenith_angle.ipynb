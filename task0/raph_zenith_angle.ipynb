{
 "cells": [
  {
   "cell_type": "code",
   "execution_count": 2,
   "id": "female-exemption",
   "metadata": {},
   "outputs": [
    {
     "data": {
      "text/plain": [
       "datetime\n",
       "2017-11-06 00:00:00    122.590257\n",
       "2017-11-06 00:30:00    115.596177\n",
       "2017-11-06 01:00:00    108.524339\n",
       "2017-11-06 01:30:00    101.398356\n",
       "2017-11-06 02:00:00     94.234878\n",
       "                          ...    \n",
       "2018-07-22 21:30:00    160.540546\n",
       "2018-07-22 22:00:00    155.682778\n",
       "2018-07-22 22:30:00    149.826058\n",
       "2018-07-22 23:00:00    143.451067\n",
       "2018-07-22 23:30:00    136.790913\n",
       "Name: apparent_zenith, Length: 12432, dtype: float64"
      ]
     },
     "execution_count": 2,
     "metadata": {},
     "output_type": "execute_result"
    }
   ],
   "source": [
    "from pvlib import solarposition\n",
    "import pandas as pd\n",
    "import numpy as np\n",
    "import matplotlib.pyplot as plt\n",
    "import os\n",
    "import sys\n",
    "sys.path.append(os.path.abspath('../common/'))\n",
    "import common_functions as cf\n",
    "\n",
    "weather_path = 'Input/weather_train_set0.csv'\n",
    "demand_path = 'Input/demand_train_set0.csv'\n",
    "solar_path = 'Input/pv_train_set0.csv'\n",
    "dp = cf.DataPreprocesser(weather_path, demand_path, solar_path)\n",
    "dp.load_df()\n",
    "dp.remove_nan()\n",
    "dp.interpolate_df()\n",
    "dp.set_df(dp.df[dp.df['week']!=44])\n",
    "lat = -4.034\n",
    "long = 50.33\n",
    "solarposition.get_solarposition(dp.df.index, -4.034, 50.33)['apparent_zenith']\n",
    "# tz = 'Asia/Calcutta'\n",
    "# lat, lon = 28.6, 77.2\n",
    "# times = pd.date_range('2019-01-01 00:00:00', '2020-01-01', closed='left',\n",
    "#                       freq='H', tz=tz)\n",
    "# times\n",
    "#solpos = solarposition.get_solarposition(times, lat, lon)"
   ]
  },
  {
   "cell_type": "code",
   "execution_count": null,
   "id": "cooked-blind",
   "metadata": {},
   "outputs": [],
   "source": []
  }
 ],
 "metadata": {
  "kernelspec": {
   "display_name": "Python 3",
   "language": "python",
   "name": "python3"
  },
  "language_info": {
   "codemirror_mode": {
    "name": "ipython",
    "version": 3
   },
   "file_extension": ".py",
   "mimetype": "text/x-python",
   "name": "python",
   "nbconvert_exporter": "python",
   "pygments_lexer": "ipython3",
   "version": "3.7.9"
  }
 },
 "nbformat": 4,
 "nbformat_minor": 5
}
