{
 "cells": [
  {
   "cell_type": "code",
   "execution_count": 14,
   "id": "mental-daisy",
   "metadata": {},
   "outputs": [
    {
     "name": "stdout",
     "output_type": "stream",
     "text": [
      "54d20m56.2407s\n"
     ]
    }
   ],
   "source": [
    "import astropy.coordinates as coord\n",
    "from astropy.time import Time\n",
    "import astropy.units as u\n",
    "import datetime\n",
    "\n",
    "\n",
    "loc = coord.EarthLocation(lon=50.33 * u.deg,\n",
    "                          lat=-4.034 * u.deg)\n",
    "\n",
    "now = Time('2017-07-20 07:00', scale='utc')\n",
    "\n",
    "altaz = coord.AltAz(location=loc, obstime=now)\n",
    "sun = coord.get_sun(now)\n",
    "\n",
    "print(sun.transform_to(altaz).alt)"
   ]
  },
  {
   "cell_type": "code",
   "execution_count": 15,
   "id": "nuclear-parker",
   "metadata": {},
   "outputs": [
    {
     "data": {
      "text/latex": [
       "$35^\\circ39{}^\\prime03.7593{}^{\\prime\\prime}$"
      ],
      "text/plain": [
       "<Angle 35.65104426 deg>"
      ]
     },
     "execution_count": 15,
     "metadata": {},
     "output_type": "execute_result"
    }
   ],
   "source": [
    "sun.transform_to(altaz).zen"
   ]
  },
  {
   "cell_type": "code",
   "execution_count": 24,
   "id": "naughty-surgery",
   "metadata": {},
   "outputs": [
    {
     "name": "stdout",
     "output_type": "stream",
     "text": [
      "35.63240673270328\n"
     ]
    }
   ],
   "source": [
    "from pysolar.solar import *\n",
    "import datetime\n",
    "# import timezone\n",
    "\n",
    "dobj = datetime.datetime(2017,7,20,7,0, tzinfo=datetime.timezone.utc)\n",
    "sza = float(90)-get_altitude(-4.034,  50.33, dobj)\n",
    "print (sza)"
   ]
  },
  {
   "cell_type": "code",
   "execution_count": 23,
   "id": "suited-verse",
   "metadata": {},
   "outputs": [
    {
     "data": {
      "text/plain": [
       "DatetimeIndex(['2019-01-01 00:00:00+05:30', '2019-01-01 01:00:00+05:30',\n",
       "               '2019-01-01 02:00:00+05:30', '2019-01-01 03:00:00+05:30',\n",
       "               '2019-01-01 04:00:00+05:30', '2019-01-01 05:00:00+05:30',\n",
       "               '2019-01-01 06:00:00+05:30', '2019-01-01 07:00:00+05:30',\n",
       "               '2019-01-01 08:00:00+05:30', '2019-01-01 09:00:00+05:30',\n",
       "               ...\n",
       "               '2019-12-31 14:00:00+05:30', '2019-12-31 15:00:00+05:30',\n",
       "               '2019-12-31 16:00:00+05:30', '2019-12-31 17:00:00+05:30',\n",
       "               '2019-12-31 18:00:00+05:30', '2019-12-31 19:00:00+05:30',\n",
       "               '2019-12-31 20:00:00+05:30', '2019-12-31 21:00:00+05:30',\n",
       "               '2019-12-31 22:00:00+05:30', '2019-12-31 23:00:00+05:30'],\n",
       "              dtype='datetime64[ns, Asia/Calcutta]', length=8760, freq='H')"
      ]
     },
     "execution_count": 23,
     "metadata": {},
     "output_type": "execute_result"
    }
   ],
   "source": [
    "from pvlib import solarposition\n",
    "import pandas as pd\n",
    "import numpy as np\n",
    "import matplotlib.pyplot as plt\n",
    "\n",
    "tz = 'Asia/Calcutta'\n",
    "lat, lon = 28.6, 77.2\n",
    "times = pd.date_range('2019-01-01 00:00:00', '2020-01-01', closed='left',\n",
    "                      freq='H', tz=tz)\n",
    "times\n",
    "#solpos = solarposition.get_solarposition(times, lat, lon)"
   ]
  },
  {
   "cell_type": "code",
   "execution_count": 26,
   "id": "catholic-serbia",
   "metadata": {},
   "outputs": [
    {
     "data": {
      "text/html": [
       "<div>\n",
       "<style scoped>\n",
       "    .dataframe tbody tr th:only-of-type {\n",
       "        vertical-align: middle;\n",
       "    }\n",
       "\n",
       "    .dataframe tbody tr th {\n",
       "        vertical-align: top;\n",
       "    }\n",
       "\n",
       "    .dataframe thead th {\n",
       "        text-align: right;\n",
       "    }\n",
       "</style>\n",
       "<table border=\"1\" class=\"dataframe\">\n",
       "  <thead>\n",
       "    <tr style=\"text-align: right;\">\n",
       "      <th></th>\n",
       "      <th>apparent_zenith</th>\n",
       "      <th>zenith</th>\n",
       "      <th>apparent_elevation</th>\n",
       "      <th>elevation</th>\n",
       "      <th>azimuth</th>\n",
       "      <th>equation_of_time</th>\n",
       "    </tr>\n",
       "  </thead>\n",
       "  <tbody>\n",
       "    <tr>\n",
       "      <th>2017-07-20 07:00:00+00:00</th>\n",
       "      <td>35.639924</td>\n",
       "      <td>35.651994</td>\n",
       "      <td>54.360076</td>\n",
       "      <td>54.348006</td>\n",
       "      <td>45.281065</td>\n",
       "      <td>-6.35826</td>\n",
       "    </tr>\n",
       "  </tbody>\n",
       "</table>\n",
       "</div>"
      ],
      "text/plain": [
       "                           apparent_zenith     zenith  apparent_elevation  \\\n",
       "2017-07-20 07:00:00+00:00        35.639924  35.651994           54.360076   \n",
       "\n",
       "                           elevation    azimuth  equation_of_time  \n",
       "2017-07-20 07:00:00+00:00  54.348006  45.281065          -6.35826  "
      ]
     },
     "execution_count": 26,
     "metadata": {},
     "output_type": "execute_result"
    }
   ],
   "source": [
    "solpos = solarposition.get_solarposition(dobj, -4.034, 50.33)\n",
    "solpos"
   ]
  },
  {
   "cell_type": "code",
   "execution_count": null,
   "id": "frank-viewer",
   "metadata": {},
   "outputs": [],
   "source": []
  }
 ],
 "metadata": {
  "kernelspec": {
   "display_name": "Python 3",
   "language": "python",
   "name": "python3"
  },
  "language_info": {
   "codemirror_mode": {
    "name": "ipython",
    "version": 3
   },
   "file_extension": ".py",
   "mimetype": "text/x-python",
   "name": "python",
   "nbconvert_exporter": "python",
   "pygments_lexer": "ipython3",
   "version": "3.7.9"
  }
 },
 "nbformat": 4,
 "nbformat_minor": 5
}
