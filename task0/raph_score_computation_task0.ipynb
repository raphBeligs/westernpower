{
 "cells": [
  {
   "cell_type": "code",
   "execution_count": 1,
   "id": "competent-norman",
   "metadata": {},
   "outputs": [],
   "source": [
    "import pandas as pd\n",
    "import matplotlib.pyplot as plt\n",
    "import seaborn as sns\n",
    "import numpy as np\n",
    "from tqdm import tqdm\n",
    "import sys\n",
    "import os\n",
    "sys.path.append(os.path.abspath('../common/'))\n",
    "import common_functions_by_date as cfbd\n",
    "import datetime"
   ]
  },
  {
   "cell_type": "code",
   "execution_count": 2,
   "id": "scheduled-assembly",
   "metadata": {},
   "outputs": [],
   "source": [
    "demand_task1_path = '../task1/Input/demand_train_set1.csv'\n",
    "solar_power_task1_path = '../task1/Input/pv_train_set1.csv'\n",
    "weather_task1_path = '../task1/Input/weather_train_set1.csv'\n",
    "dp_task1 = cfbd.DataPreprocesser(demand_path=demand_task1_path, solar_path=solar_power_task1_path, weather_path=weather_task1_path)\n",
    "dp_task1.load_df()\n",
    "dp_task1.remove_nan()\n",
    "dp_task1.interpolate_df()"
   ]
  },
  {
   "cell_type": "code",
   "execution_count": 6,
   "id": "elementary-fundamental",
   "metadata": {},
   "outputs": [
    {
     "data": {
      "text/html": [
       "<div>\n",
       "<style scoped>\n",
       "    .dataframe tbody tr th:only-of-type {\n",
       "        vertical-align: middle;\n",
       "    }\n",
       "\n",
       "    .dataframe tbody tr th {\n",
       "        vertical-align: top;\n",
       "    }\n",
       "\n",
       "    .dataframe thead th {\n",
       "        text-align: right;\n",
       "    }\n",
       "</style>\n",
       "<table border=\"1\" class=\"dataframe\">\n",
       "  <thead>\n",
       "    <tr style=\"text-align: right;\">\n",
       "      <th></th>\n",
       "      <th>demand_MW</th>\n",
       "      <th>irradiance_Wm-2</th>\n",
       "      <th>pv_power_mw</th>\n",
       "      <th>panel_temp_C</th>\n",
       "      <th>temp_location3</th>\n",
       "      <th>temp_location6</th>\n",
       "      <th>temp_location2</th>\n",
       "      <th>temp_location4</th>\n",
       "      <th>temp_location5</th>\n",
       "      <th>temp_location1</th>\n",
       "      <th>...</th>\n",
       "      <th>solar_location6</th>\n",
       "      <th>solar_location2</th>\n",
       "      <th>solar_location4</th>\n",
       "      <th>solar_location5</th>\n",
       "      <th>solar_location1</th>\n",
       "      <th>week</th>\n",
       "      <th>dow</th>\n",
       "      <th>date</th>\n",
       "      <th>hour</th>\n",
       "      <th>sp</th>\n",
       "    </tr>\n",
       "    <tr>\n",
       "      <th>datetime</th>\n",
       "      <th></th>\n",
       "      <th></th>\n",
       "      <th></th>\n",
       "      <th></th>\n",
       "      <th></th>\n",
       "      <th></th>\n",
       "      <th></th>\n",
       "      <th></th>\n",
       "      <th></th>\n",
       "      <th></th>\n",
       "      <th></th>\n",
       "      <th></th>\n",
       "      <th></th>\n",
       "      <th></th>\n",
       "      <th></th>\n",
       "      <th></th>\n",
       "      <th></th>\n",
       "      <th></th>\n",
       "      <th></th>\n",
       "      <th></th>\n",
       "      <th></th>\n",
       "    </tr>\n",
       "  </thead>\n",
       "  <tbody>\n",
       "    <tr>\n",
       "      <th>2018-07-23 00:00:00</th>\n",
       "      <td>1.68</td>\n",
       "      <td>0.0</td>\n",
       "      <td>0.0</td>\n",
       "      <td>14.86</td>\n",
       "      <td>15.67</td>\n",
       "      <td>18.500</td>\n",
       "      <td>17.050</td>\n",
       "      <td>17.860</td>\n",
       "      <td>18.740</td>\n",
       "      <td>16.74</td>\n",
       "      <td>...</td>\n",
       "      <td>0.0</td>\n",
       "      <td>0.0</td>\n",
       "      <td>0.0</td>\n",
       "      <td>0.0</td>\n",
       "      <td>0.0</td>\n",
       "      <td>30</td>\n",
       "      <td>0</td>\n",
       "      <td>2018-07-23</td>\n",
       "      <td>0</td>\n",
       "      <td>1.0</td>\n",
       "    </tr>\n",
       "    <tr>\n",
       "      <th>2018-07-23 00:30:00</th>\n",
       "      <td>1.58</td>\n",
       "      <td>0.0</td>\n",
       "      <td>0.0</td>\n",
       "      <td>14.64</td>\n",
       "      <td>15.57</td>\n",
       "      <td>18.355</td>\n",
       "      <td>16.845</td>\n",
       "      <td>17.585</td>\n",
       "      <td>18.630</td>\n",
       "      <td>16.62</td>\n",
       "      <td>...</td>\n",
       "      <td>0.0</td>\n",
       "      <td>0.0</td>\n",
       "      <td>0.0</td>\n",
       "      <td>0.0</td>\n",
       "      <td>0.0</td>\n",
       "      <td>30</td>\n",
       "      <td>0</td>\n",
       "      <td>2018-07-23</td>\n",
       "      <td>0</td>\n",
       "      <td>2.0</td>\n",
       "    </tr>\n",
       "    <tr>\n",
       "      <th>2018-07-23 01:00:00</th>\n",
       "      <td>1.49</td>\n",
       "      <td>0.0</td>\n",
       "      <td>0.0</td>\n",
       "      <td>14.38</td>\n",
       "      <td>15.47</td>\n",
       "      <td>18.210</td>\n",
       "      <td>16.640</td>\n",
       "      <td>17.310</td>\n",
       "      <td>18.520</td>\n",
       "      <td>16.50</td>\n",
       "      <td>...</td>\n",
       "      <td>0.0</td>\n",
       "      <td>0.0</td>\n",
       "      <td>0.0</td>\n",
       "      <td>0.0</td>\n",
       "      <td>0.0</td>\n",
       "      <td>30</td>\n",
       "      <td>0</td>\n",
       "      <td>2018-07-23</td>\n",
       "      <td>1</td>\n",
       "      <td>3.0</td>\n",
       "    </tr>\n",
       "    <tr>\n",
       "      <th>2018-07-23 01:30:00</th>\n",
       "      <td>1.47</td>\n",
       "      <td>0.0</td>\n",
       "      <td>0.0</td>\n",
       "      <td>14.61</td>\n",
       "      <td>15.37</td>\n",
       "      <td>18.110</td>\n",
       "      <td>16.485</td>\n",
       "      <td>17.050</td>\n",
       "      <td>18.455</td>\n",
       "      <td>16.41</td>\n",
       "      <td>...</td>\n",
       "      <td>0.0</td>\n",
       "      <td>0.0</td>\n",
       "      <td>0.0</td>\n",
       "      <td>0.0</td>\n",
       "      <td>0.0</td>\n",
       "      <td>30</td>\n",
       "      <td>0</td>\n",
       "      <td>2018-07-23</td>\n",
       "      <td>1</td>\n",
       "      <td>4.0</td>\n",
       "    </tr>\n",
       "    <tr>\n",
       "      <th>2018-07-23 02:00:00</th>\n",
       "      <td>1.47</td>\n",
       "      <td>0.0</td>\n",
       "      <td>0.0</td>\n",
       "      <td>14.91</td>\n",
       "      <td>15.27</td>\n",
       "      <td>18.010</td>\n",
       "      <td>16.330</td>\n",
       "      <td>16.790</td>\n",
       "      <td>18.390</td>\n",
       "      <td>16.32</td>\n",
       "      <td>...</td>\n",
       "      <td>0.0</td>\n",
       "      <td>0.0</td>\n",
       "      <td>0.0</td>\n",
       "      <td>0.0</td>\n",
       "      <td>0.0</td>\n",
       "      <td>30</td>\n",
       "      <td>0</td>\n",
       "      <td>2018-07-23</td>\n",
       "      <td>2</td>\n",
       "      <td>5.0</td>\n",
       "    </tr>\n",
       "  </tbody>\n",
       "</table>\n",
       "<p>5 rows × 21 columns</p>\n",
       "</div>"
      ],
      "text/plain": [
       "                     demand_MW  irradiance_Wm-2  pv_power_mw  panel_temp_C  \\\n",
       "datetime                                                                     \n",
       "2018-07-23 00:00:00       1.68              0.0          0.0         14.86   \n",
       "2018-07-23 00:30:00       1.58              0.0          0.0         14.64   \n",
       "2018-07-23 01:00:00       1.49              0.0          0.0         14.38   \n",
       "2018-07-23 01:30:00       1.47              0.0          0.0         14.61   \n",
       "2018-07-23 02:00:00       1.47              0.0          0.0         14.91   \n",
       "\n",
       "                     temp_location3  temp_location6  temp_location2  \\\n",
       "datetime                                                              \n",
       "2018-07-23 00:00:00           15.67          18.500          17.050   \n",
       "2018-07-23 00:30:00           15.57          18.355          16.845   \n",
       "2018-07-23 01:00:00           15.47          18.210          16.640   \n",
       "2018-07-23 01:30:00           15.37          18.110          16.485   \n",
       "2018-07-23 02:00:00           15.27          18.010          16.330   \n",
       "\n",
       "                     temp_location4  temp_location5  temp_location1  ...  \\\n",
       "datetime                                                             ...   \n",
       "2018-07-23 00:00:00          17.860          18.740           16.74  ...   \n",
       "2018-07-23 00:30:00          17.585          18.630           16.62  ...   \n",
       "2018-07-23 01:00:00          17.310          18.520           16.50  ...   \n",
       "2018-07-23 01:30:00          17.050          18.455           16.41  ...   \n",
       "2018-07-23 02:00:00          16.790          18.390           16.32  ...   \n",
       "\n",
       "                     solar_location6  solar_location2  solar_location4  \\\n",
       "datetime                                                                 \n",
       "2018-07-23 00:00:00              0.0              0.0              0.0   \n",
       "2018-07-23 00:30:00              0.0              0.0              0.0   \n",
       "2018-07-23 01:00:00              0.0              0.0              0.0   \n",
       "2018-07-23 01:30:00              0.0              0.0              0.0   \n",
       "2018-07-23 02:00:00              0.0              0.0              0.0   \n",
       "\n",
       "                     solar_location5  solar_location1  week  dow        date  \\\n",
       "datetime                                                                       \n",
       "2018-07-23 00:00:00              0.0              0.0    30    0  2018-07-23   \n",
       "2018-07-23 00:30:00              0.0              0.0    30    0  2018-07-23   \n",
       "2018-07-23 01:00:00              0.0              0.0    30    0  2018-07-23   \n",
       "2018-07-23 01:30:00              0.0              0.0    30    0  2018-07-23   \n",
       "2018-07-23 02:00:00              0.0              0.0    30    0  2018-07-23   \n",
       "\n",
       "                    hour   sp  \n",
       "datetime                       \n",
       "2018-07-23 00:00:00    0  1.0  \n",
       "2018-07-23 00:30:00    0  2.0  \n",
       "2018-07-23 01:00:00    1  3.0  \n",
       "2018-07-23 01:30:00    1  4.0  \n",
       "2018-07-23 02:00:00    2  5.0  \n",
       "\n",
       "[5 rows x 21 columns]"
      ]
     },
     "execution_count": 6,
     "metadata": {},
     "output_type": "execute_result"
    }
   ],
   "source": [
    "first_day_prediction=datetime.datetime(2018,7,23).date()\n",
    "demand_and_solar_power = dp_task1.df.loc[(dp_task1.df.index.date >= first_day_prediction) & \n",
    "                                         (dp_task1.df.index.date < first_day_prediction+ datetime.timedelta(days=7)), :]\n",
    "demand_and_solar_power.head()"
   ]
  },
  {
   "cell_type": "markdown",
   "id": "filled-asset",
   "metadata": {},
   "source": [
    "## Real values score"
   ]
  },
  {
   "cell_type": "code",
   "execution_count": 9,
   "id": "thirty-pharmaceutical",
   "metadata": {},
   "outputs": [],
   "source": [
    "BGBattery_path_real = 'Output/BGBattery_real_set0.csv'"
   ]
  },
  {
   "cell_type": "code",
   "execution_count": 10,
   "id": "following-honey",
   "metadata": {},
   "outputs": [
    {
     "name": "stdout",
     "output_type": "stream",
     "text": [
      "100%|██████████| 7/7 [00:00<00:00, 89.21it/s]\n"
     ]
    },
    {
     "data": {
      "text/plain": [
       "(             r_peak   p_solar           s\n",
       " 20180723  40.776699       1.0  122.330097\n",
       " 20180724  40.064103       1.0  120.192308\n",
       " 20180725  42.524917       1.0  127.574751\n",
       " 20180726  39.935065       1.0  119.805195\n",
       " 20180727  43.292683       1.0  129.878049\n",
       " 20180728       43.0       1.0       129.0\n",
       " 20180729   41.26506  0.655751   95.384308,\n",
       " r_peak      41.551218\n",
       " p_solar      0.950822\n",
       " s          120.594958\n",
       " dtype: float64)"
      ]
     },
     "execution_count": 10,
     "metadata": {},
     "output_type": "execute_result"
    }
   ],
   "source": [
    "BGBattery_sc_real = cfbd.ScoreComputer(BGBattery_path_real)\n",
    "BGBattery_sc_real.compute_scores(demand_and_solar_power, first_day_prediction)"
   ]
  },
  {
   "cell_type": "markdown",
   "id": "dressed-implement",
   "metadata": {},
   "source": [
    "## Naive score"
   ]
  },
  {
   "cell_type": "code",
   "execution_count": 11,
   "id": "opponent-chassis",
   "metadata": {},
   "outputs": [],
   "source": [
    "BGBattery_path_naive = 'Output/BGBattery_naive_set0.csv'"
   ]
  },
  {
   "cell_type": "code",
   "execution_count": 12,
   "id": "graduate-acting",
   "metadata": {},
   "outputs": [
    {
     "name": "stdout",
     "output_type": "stream",
     "text": [
      "100%|██████████| 7/7 [00:00<00:00, 95.75it/s]\n"
     ]
    },
    {
     "data": {
      "text/plain": [
       "(             r_peak   p_solar           s\n",
       " 20180723  37.216828  0.993118  111.138265\n",
       " 20180724  36.858974  0.999793  110.561688\n",
       " 20180725  34.883721       1.0  104.651163\n",
       " 20180726  37.662338       1.0  112.987013\n",
       " 20180727   34.45122  0.954006  100.184527\n",
       " 20180728  36.666667  0.999817  109.986567\n",
       " 20180729  24.096386  0.609415   53.465787,\n",
       " r_peak      34.548019\n",
       " p_solar      0.936593\n",
       " s          100.425001\n",
       " dtype: float64)"
      ]
     },
     "execution_count": 12,
     "metadata": {},
     "output_type": "execute_result"
    }
   ],
   "source": [
    "BGBattery_sc_naive = cfbd.ScoreComputer(BGBattery_path_naive)\n",
    "BGBattery_sc_naive.compute_scores(demand_and_solar_power, first_day_prediction)"
   ]
  },
  {
   "cell_type": "code",
   "execution_count": null,
   "id": "white-debate",
   "metadata": {},
   "outputs": [],
   "source": []
  },
  {
   "cell_type": "markdown",
   "id": "intense-bruce",
   "metadata": {},
   "source": [
    "## Last model score"
   ]
  },
  {
   "cell_type": "code",
   "execution_count": 13,
   "id": "proved-satisfaction",
   "metadata": {},
   "outputs": [],
   "source": [
    "BGBattery_path_last_model = 'Output/BGBattery_last_model_set0.csv'"
   ]
  },
  {
   "cell_type": "code",
   "execution_count": 14,
   "id": "aware-bloom",
   "metadata": {},
   "outputs": [
    {
     "name": "stdout",
     "output_type": "stream",
     "text": [
      "100%|██████████| 7/7 [00:00<00:00, 116.27it/s]\n"
     ]
    },
    {
     "data": {
      "text/plain": [
       "(             r_peak   p_solar           s\n",
       " 20180723  37.514204  0.988953  111.713799\n",
       " 20180724  36.269587       1.0  108.808761\n",
       " 20180725  35.724991       1.0  107.174972\n",
       " 20180726   35.49531       1.0  106.485931\n",
       " 20180727  34.306572  0.904507   96.367674\n",
       " 20180728  39.651111  0.995054  118.561125\n",
       " 20180729  26.262383  0.483817    51.67477,\n",
       " r_peak      35.032022\n",
       " p_solar      0.910333\n",
       " s          100.112433\n",
       " dtype: float64)"
      ]
     },
     "execution_count": 14,
     "metadata": {},
     "output_type": "execute_result"
    }
   ],
   "source": [
    "BGBattery_sc_last_model = cfbd.ScoreComputer(BGBattery_path_last_model)\n",
    "BGBattery_sc_last_model.compute_scores(demand_and_solar_power, first_day_prediction)"
   ]
  },
  {
   "cell_type": "code",
   "execution_count": null,
   "id": "related-remainder",
   "metadata": {},
   "outputs": [],
   "source": []
  }
 ],
 "metadata": {
  "kernelspec": {
   "display_name": "Python 3",
   "language": "python",
   "name": "python3"
  },
  "language_info": {
   "codemirror_mode": {
    "name": "ipython",
    "version": 3
   },
   "file_extension": ".py",
   "mimetype": "text/x-python",
   "name": "python",
   "nbconvert_exporter": "python",
   "pygments_lexer": "ipython3",
   "version": "3.7.9"
  }
 },
 "nbformat": 4,
 "nbformat_minor": 5
}
