{
 "cells": [
  {
   "cell_type": "markdown",
   "id": "micro-style",
   "metadata": {},
   "source": [
    "# Calculating the score for different estimates of battery charge distribution and comparing these scores"
   ]
  },
  {
   "cell_type": "markdown",
   "id": "korean-circle",
   "metadata": {},
   "source": [
    "## Compute score"
   ]
  },
  {
   "cell_type": "code",
   "execution_count": 4,
   "id": "rapid-girlfriend",
   "metadata": {},
   "outputs": [],
   "source": [
    "import pandas as pd\n",
    "import matplotlib.pyplot as plt\n",
    "import seaborn as sns\n",
    "import numpy as np\n",
    "from tqdm import tqdm\n",
    "import sys\n",
    "import os\n",
    "sys.path.append(os.path.abspath('../common/'))\n",
    "import common_functions as cf\n",
    "import datetime"
   ]
  },
  {
   "cell_type": "markdown",
   "id": "respective-germany",
   "metadata": {},
   "source": [
    "### Get real values for prediction week"
   ]
  },
  {
   "cell_type": "code",
   "execution_count": 5,
   "id": "dying-rating",
   "metadata": {},
   "outputs": [],
   "source": [
    "demand_task1_path = '../task1/Input/demand_train_set1.csv'\n",
    "solar_power_task1_path = '../task1/Input/pv_train_set1.csv'\n",
    "weather_task1_path = '../task1/Input/weather_train_set1.csv'\n",
    "dp_task1 = cf.DataPreprocesser(demand_path=demand_task1_path, solar_path=solar_power_task1_path, weather_path=weather_task1_path)\n",
    "dp_task1.load_df()\n",
    "dp_task1.remove_nan()\n",
    "dp_task1.interpolate_df()\n"
   ]
  },
  {
   "cell_type": "code",
   "execution_count": 6,
   "id": "corporate-plasma",
   "metadata": {},
   "outputs": [
    {
     "data": {
      "text/html": [
       "<div>\n",
       "<style scoped>\n",
       "    .dataframe tbody tr th:only-of-type {\n",
       "        vertical-align: middle;\n",
       "    }\n",
       "\n",
       "    .dataframe tbody tr th {\n",
       "        vertical-align: top;\n",
       "    }\n",
       "\n",
       "    .dataframe thead th {\n",
       "        text-align: right;\n",
       "    }\n",
       "</style>\n",
       "<table border=\"1\" class=\"dataframe\">\n",
       "  <thead>\n",
       "    <tr style=\"text-align: right;\">\n",
       "      <th></th>\n",
       "      <th>demand_MW</th>\n",
       "      <th>irradiance_Wm-2</th>\n",
       "      <th>pv_power_mw</th>\n",
       "      <th>panel_temp_C</th>\n",
       "      <th>temp_location3</th>\n",
       "      <th>temp_location6</th>\n",
       "      <th>temp_location2</th>\n",
       "      <th>temp_location4</th>\n",
       "      <th>temp_location5</th>\n",
       "      <th>temp_location1</th>\n",
       "      <th>solar_location3</th>\n",
       "      <th>solar_location6</th>\n",
       "      <th>solar_location2</th>\n",
       "      <th>solar_location4</th>\n",
       "      <th>solar_location5</th>\n",
       "      <th>solar_location1</th>\n",
       "      <th>week</th>\n",
       "      <th>dow</th>\n",
       "      <th>hour</th>\n",
       "      <th>sp</th>\n",
       "    </tr>\n",
       "    <tr>\n",
       "      <th>datetime</th>\n",
       "      <th></th>\n",
       "      <th></th>\n",
       "      <th></th>\n",
       "      <th></th>\n",
       "      <th></th>\n",
       "      <th></th>\n",
       "      <th></th>\n",
       "      <th></th>\n",
       "      <th></th>\n",
       "      <th></th>\n",
       "      <th></th>\n",
       "      <th></th>\n",
       "      <th></th>\n",
       "      <th></th>\n",
       "      <th></th>\n",
       "      <th></th>\n",
       "      <th></th>\n",
       "      <th></th>\n",
       "      <th></th>\n",
       "      <th></th>\n",
       "    </tr>\n",
       "  </thead>\n",
       "  <tbody>\n",
       "    <tr>\n",
       "      <th>2018-07-23 00:00:00</th>\n",
       "      <td>1.68</td>\n",
       "      <td>0.0</td>\n",
       "      <td>0.0</td>\n",
       "      <td>14.86</td>\n",
       "      <td>15.670</td>\n",
       "      <td>18.500</td>\n",
       "      <td>17.050</td>\n",
       "      <td>17.860</td>\n",
       "      <td>18.740</td>\n",
       "      <td>16.740</td>\n",
       "      <td>0.0</td>\n",
       "      <td>0.0</td>\n",
       "      <td>0.0</td>\n",
       "      <td>0.0</td>\n",
       "      <td>0.0</td>\n",
       "      <td>0.0</td>\n",
       "      <td>30</td>\n",
       "      <td>0</td>\n",
       "      <td>0</td>\n",
       "      <td>1.0</td>\n",
       "    </tr>\n",
       "    <tr>\n",
       "      <th>2018-07-23 00:30:00</th>\n",
       "      <td>1.58</td>\n",
       "      <td>0.0</td>\n",
       "      <td>0.0</td>\n",
       "      <td>14.64</td>\n",
       "      <td>15.570</td>\n",
       "      <td>18.355</td>\n",
       "      <td>16.845</td>\n",
       "      <td>17.585</td>\n",
       "      <td>18.630</td>\n",
       "      <td>16.620</td>\n",
       "      <td>0.0</td>\n",
       "      <td>0.0</td>\n",
       "      <td>0.0</td>\n",
       "      <td>0.0</td>\n",
       "      <td>0.0</td>\n",
       "      <td>0.0</td>\n",
       "      <td>30</td>\n",
       "      <td>0</td>\n",
       "      <td>0</td>\n",
       "      <td>2.0</td>\n",
       "    </tr>\n",
       "    <tr>\n",
       "      <th>2018-07-23 01:00:00</th>\n",
       "      <td>1.49</td>\n",
       "      <td>0.0</td>\n",
       "      <td>0.0</td>\n",
       "      <td>14.38</td>\n",
       "      <td>15.470</td>\n",
       "      <td>18.210</td>\n",
       "      <td>16.640</td>\n",
       "      <td>17.310</td>\n",
       "      <td>18.520</td>\n",
       "      <td>16.500</td>\n",
       "      <td>0.0</td>\n",
       "      <td>0.0</td>\n",
       "      <td>0.0</td>\n",
       "      <td>0.0</td>\n",
       "      <td>0.0</td>\n",
       "      <td>0.0</td>\n",
       "      <td>30</td>\n",
       "      <td>0</td>\n",
       "      <td>1</td>\n",
       "      <td>3.0</td>\n",
       "    </tr>\n",
       "    <tr>\n",
       "      <th>2018-07-23 01:30:00</th>\n",
       "      <td>1.47</td>\n",
       "      <td>0.0</td>\n",
       "      <td>0.0</td>\n",
       "      <td>14.61</td>\n",
       "      <td>15.370</td>\n",
       "      <td>18.110</td>\n",
       "      <td>16.485</td>\n",
       "      <td>17.050</td>\n",
       "      <td>18.455</td>\n",
       "      <td>16.410</td>\n",
       "      <td>0.0</td>\n",
       "      <td>0.0</td>\n",
       "      <td>0.0</td>\n",
       "      <td>0.0</td>\n",
       "      <td>0.0</td>\n",
       "      <td>0.0</td>\n",
       "      <td>30</td>\n",
       "      <td>0</td>\n",
       "      <td>1</td>\n",
       "      <td>4.0</td>\n",
       "    </tr>\n",
       "    <tr>\n",
       "      <th>2018-07-23 02:00:00</th>\n",
       "      <td>1.47</td>\n",
       "      <td>0.0</td>\n",
       "      <td>0.0</td>\n",
       "      <td>14.91</td>\n",
       "      <td>15.270</td>\n",
       "      <td>18.010</td>\n",
       "      <td>16.330</td>\n",
       "      <td>16.790</td>\n",
       "      <td>18.390</td>\n",
       "      <td>16.320</td>\n",
       "      <td>0.0</td>\n",
       "      <td>0.0</td>\n",
       "      <td>0.0</td>\n",
       "      <td>0.0</td>\n",
       "      <td>0.0</td>\n",
       "      <td>0.0</td>\n",
       "      <td>30</td>\n",
       "      <td>0</td>\n",
       "      <td>2</td>\n",
       "      <td>5.0</td>\n",
       "    </tr>\n",
       "    <tr>\n",
       "      <th>...</th>\n",
       "      <td>...</td>\n",
       "      <td>...</td>\n",
       "      <td>...</td>\n",
       "      <td>...</td>\n",
       "      <td>...</td>\n",
       "      <td>...</td>\n",
       "      <td>...</td>\n",
       "      <td>...</td>\n",
       "      <td>...</td>\n",
       "      <td>...</td>\n",
       "      <td>...</td>\n",
       "      <td>...</td>\n",
       "      <td>...</td>\n",
       "      <td>...</td>\n",
       "      <td>...</td>\n",
       "      <td>...</td>\n",
       "      <td>...</td>\n",
       "      <td>...</td>\n",
       "      <td>...</td>\n",
       "      <td>...</td>\n",
       "    </tr>\n",
       "    <tr>\n",
       "      <th>2018-07-29 21:30:00</th>\n",
       "      <td>2.36</td>\n",
       "      <td>0.0</td>\n",
       "      <td>0.0</td>\n",
       "      <td>15.00</td>\n",
       "      <td>15.485</td>\n",
       "      <td>17.415</td>\n",
       "      <td>16.370</td>\n",
       "      <td>16.285</td>\n",
       "      <td>17.625</td>\n",
       "      <td>16.125</td>\n",
       "      <td>0.0</td>\n",
       "      <td>0.0</td>\n",
       "      <td>0.0</td>\n",
       "      <td>0.0</td>\n",
       "      <td>0.0</td>\n",
       "      <td>0.0</td>\n",
       "      <td>30</td>\n",
       "      <td>6</td>\n",
       "      <td>21</td>\n",
       "      <td>44.0</td>\n",
       "    </tr>\n",
       "    <tr>\n",
       "      <th>2018-07-29 22:00:00</th>\n",
       "      <td>2.11</td>\n",
       "      <td>0.0</td>\n",
       "      <td>0.0</td>\n",
       "      <td>15.10</td>\n",
       "      <td>15.310</td>\n",
       "      <td>17.390</td>\n",
       "      <td>16.300</td>\n",
       "      <td>16.030</td>\n",
       "      <td>17.580</td>\n",
       "      <td>16.040</td>\n",
       "      <td>0.0</td>\n",
       "      <td>0.0</td>\n",
       "      <td>0.0</td>\n",
       "      <td>0.0</td>\n",
       "      <td>0.0</td>\n",
       "      <td>0.0</td>\n",
       "      <td>30</td>\n",
       "      <td>6</td>\n",
       "      <td>22</td>\n",
       "      <td>45.0</td>\n",
       "    </tr>\n",
       "    <tr>\n",
       "      <th>2018-07-29 22:30:00</th>\n",
       "      <td>1.91</td>\n",
       "      <td>0.0</td>\n",
       "      <td>0.0</td>\n",
       "      <td>15.01</td>\n",
       "      <td>15.215</td>\n",
       "      <td>17.380</td>\n",
       "      <td>16.255</td>\n",
       "      <td>15.835</td>\n",
       "      <td>17.570</td>\n",
       "      <td>15.980</td>\n",
       "      <td>0.0</td>\n",
       "      <td>0.0</td>\n",
       "      <td>0.0</td>\n",
       "      <td>0.0</td>\n",
       "      <td>0.0</td>\n",
       "      <td>0.0</td>\n",
       "      <td>30</td>\n",
       "      <td>6</td>\n",
       "      <td>22</td>\n",
       "      <td>46.0</td>\n",
       "    </tr>\n",
       "    <tr>\n",
       "      <th>2018-07-29 23:00:00</th>\n",
       "      <td>1.84</td>\n",
       "      <td>0.0</td>\n",
       "      <td>0.0</td>\n",
       "      <td>14.90</td>\n",
       "      <td>15.120</td>\n",
       "      <td>17.370</td>\n",
       "      <td>16.210</td>\n",
       "      <td>15.640</td>\n",
       "      <td>17.560</td>\n",
       "      <td>15.920</td>\n",
       "      <td>0.0</td>\n",
       "      <td>0.0</td>\n",
       "      <td>0.0</td>\n",
       "      <td>0.0</td>\n",
       "      <td>0.0</td>\n",
       "      <td>0.0</td>\n",
       "      <td>30</td>\n",
       "      <td>6</td>\n",
       "      <td>23</td>\n",
       "      <td>47.0</td>\n",
       "    </tr>\n",
       "    <tr>\n",
       "      <th>2018-07-29 23:30:00</th>\n",
       "      <td>1.74</td>\n",
       "      <td>0.0</td>\n",
       "      <td>0.0</td>\n",
       "      <td>14.95</td>\n",
       "      <td>15.155</td>\n",
       "      <td>17.360</td>\n",
       "      <td>16.230</td>\n",
       "      <td>15.480</td>\n",
       "      <td>17.570</td>\n",
       "      <td>15.905</td>\n",
       "      <td>0.0</td>\n",
       "      <td>0.0</td>\n",
       "      <td>0.0</td>\n",
       "      <td>0.0</td>\n",
       "      <td>0.0</td>\n",
       "      <td>0.0</td>\n",
       "      <td>30</td>\n",
       "      <td>6</td>\n",
       "      <td>23</td>\n",
       "      <td>48.0</td>\n",
       "    </tr>\n",
       "  </tbody>\n",
       "</table>\n",
       "<p>336 rows × 20 columns</p>\n",
       "</div>"
      ],
      "text/plain": [
       "                     demand_MW  irradiance_Wm-2  pv_power_mw  panel_temp_C  \\\n",
       "datetime                                                                     \n",
       "2018-07-23 00:00:00       1.68              0.0          0.0         14.86   \n",
       "2018-07-23 00:30:00       1.58              0.0          0.0         14.64   \n",
       "2018-07-23 01:00:00       1.49              0.0          0.0         14.38   \n",
       "2018-07-23 01:30:00       1.47              0.0          0.0         14.61   \n",
       "2018-07-23 02:00:00       1.47              0.0          0.0         14.91   \n",
       "...                        ...              ...          ...           ...   \n",
       "2018-07-29 21:30:00       2.36              0.0          0.0         15.00   \n",
       "2018-07-29 22:00:00       2.11              0.0          0.0         15.10   \n",
       "2018-07-29 22:30:00       1.91              0.0          0.0         15.01   \n",
       "2018-07-29 23:00:00       1.84              0.0          0.0         14.90   \n",
       "2018-07-29 23:30:00       1.74              0.0          0.0         14.95   \n",
       "\n",
       "                     temp_location3  temp_location6  temp_location2  \\\n",
       "datetime                                                              \n",
       "2018-07-23 00:00:00          15.670          18.500          17.050   \n",
       "2018-07-23 00:30:00          15.570          18.355          16.845   \n",
       "2018-07-23 01:00:00          15.470          18.210          16.640   \n",
       "2018-07-23 01:30:00          15.370          18.110          16.485   \n",
       "2018-07-23 02:00:00          15.270          18.010          16.330   \n",
       "...                             ...             ...             ...   \n",
       "2018-07-29 21:30:00          15.485          17.415          16.370   \n",
       "2018-07-29 22:00:00          15.310          17.390          16.300   \n",
       "2018-07-29 22:30:00          15.215          17.380          16.255   \n",
       "2018-07-29 23:00:00          15.120          17.370          16.210   \n",
       "2018-07-29 23:30:00          15.155          17.360          16.230   \n",
       "\n",
       "                     temp_location4  temp_location5  temp_location1  \\\n",
       "datetime                                                              \n",
       "2018-07-23 00:00:00          17.860          18.740          16.740   \n",
       "2018-07-23 00:30:00          17.585          18.630          16.620   \n",
       "2018-07-23 01:00:00          17.310          18.520          16.500   \n",
       "2018-07-23 01:30:00          17.050          18.455          16.410   \n",
       "2018-07-23 02:00:00          16.790          18.390          16.320   \n",
       "...                             ...             ...             ...   \n",
       "2018-07-29 21:30:00          16.285          17.625          16.125   \n",
       "2018-07-29 22:00:00          16.030          17.580          16.040   \n",
       "2018-07-29 22:30:00          15.835          17.570          15.980   \n",
       "2018-07-29 23:00:00          15.640          17.560          15.920   \n",
       "2018-07-29 23:30:00          15.480          17.570          15.905   \n",
       "\n",
       "                     solar_location3  solar_location6  solar_location2  \\\n",
       "datetime                                                                 \n",
       "2018-07-23 00:00:00              0.0              0.0              0.0   \n",
       "2018-07-23 00:30:00              0.0              0.0              0.0   \n",
       "2018-07-23 01:00:00              0.0              0.0              0.0   \n",
       "2018-07-23 01:30:00              0.0              0.0              0.0   \n",
       "2018-07-23 02:00:00              0.0              0.0              0.0   \n",
       "...                              ...              ...              ...   \n",
       "2018-07-29 21:30:00              0.0              0.0              0.0   \n",
       "2018-07-29 22:00:00              0.0              0.0              0.0   \n",
       "2018-07-29 22:30:00              0.0              0.0              0.0   \n",
       "2018-07-29 23:00:00              0.0              0.0              0.0   \n",
       "2018-07-29 23:30:00              0.0              0.0              0.0   \n",
       "\n",
       "                     solar_location4  solar_location5  solar_location1  week  \\\n",
       "datetime                                                                       \n",
       "2018-07-23 00:00:00              0.0              0.0              0.0    30   \n",
       "2018-07-23 00:30:00              0.0              0.0              0.0    30   \n",
       "2018-07-23 01:00:00              0.0              0.0              0.0    30   \n",
       "2018-07-23 01:30:00              0.0              0.0              0.0    30   \n",
       "2018-07-23 02:00:00              0.0              0.0              0.0    30   \n",
       "...                              ...              ...              ...   ...   \n",
       "2018-07-29 21:30:00              0.0              0.0              0.0    30   \n",
       "2018-07-29 22:00:00              0.0              0.0              0.0    30   \n",
       "2018-07-29 22:30:00              0.0              0.0              0.0    30   \n",
       "2018-07-29 23:00:00              0.0              0.0              0.0    30   \n",
       "2018-07-29 23:30:00              0.0              0.0              0.0    30   \n",
       "\n",
       "                     dow  hour    sp  \n",
       "datetime                              \n",
       "2018-07-23 00:00:00    0     0   1.0  \n",
       "2018-07-23 00:30:00    0     0   2.0  \n",
       "2018-07-23 01:00:00    0     1   3.0  \n",
       "2018-07-23 01:30:00    0     1   4.0  \n",
       "2018-07-23 02:00:00    0     2   5.0  \n",
       "...                  ...   ...   ...  \n",
       "2018-07-29 21:30:00    6    21  44.0  \n",
       "2018-07-29 22:00:00    6    22  45.0  \n",
       "2018-07-29 22:30:00    6    22  46.0  \n",
       "2018-07-29 23:00:00    6    23  47.0  \n",
       "2018-07-29 23:30:00    6    23  48.0  \n",
       "\n",
       "[336 rows x 20 columns]"
      ]
     },
     "execution_count": 6,
     "metadata": {},
     "output_type": "execute_result"
    }
   ],
   "source": [
    "prediction_week = 30\n",
    "demand_and_solar_power = dp_task1.df.loc[dp_task1.df['week'] == prediction_week, :]\n",
    "demand_and_solar_power"
   ]
  },
  {
   "cell_type": "markdown",
   "id": "spoken-bridges",
   "metadata": {},
   "source": [
    "### Score for naive 1"
   ]
  },
  {
   "cell_type": "code",
   "execution_count": 4,
   "id": "original-paradise",
   "metadata": {},
   "outputs": [],
   "source": [
    "naive1_path = 'Output/test_raph/naive1.csv'"
   ]
  },
  {
   "cell_type": "code",
   "execution_count": 5,
   "id": "integrated-macintosh",
   "metadata": {},
   "outputs": [
    {
     "name": "stdout",
     "output_type": "stream",
     "text": [
      "100%|██████████| 7/7 [00:00<00:00, 81.76it/s]\n"
     ]
    },
    {
     "name": "stderr",
     "output_type": "stream",
     "text": [
      "/home/raph/project/westernpower/westernpower/task0/common_functions.py:302: FutureWarning: weekofyear and week have been deprecated, please use DatetimeIndex.isocalendar().week instead, which returns a Series.  To exactly reproduce the behavior of week and weekofyear and return an Index, you may call pd.Int64Index(idx.isocalendar().week)\n",
      "  B['week']=B.index.week\n"
     ]
    },
    {
     "data": {
      "text/plain": [
       "(          r_peak   p_solar           s\n",
       " dow 0  37.216828  0.992654  111.103667\n",
       " dow 1  36.858974  0.999792  110.561585\n",
       " dow 2  34.883721       1.0  104.651163\n",
       " dow 3  37.662338       1.0  112.987013\n",
       " dow 4   34.45122  0.954006  100.184527\n",
       " dow 5  36.666667  0.999797  109.985133\n",
       " dow 6  24.096386  0.606199   53.310804,\n",
       " r_peak      34.548019\n",
       " p_solar      0.936064\n",
       " s          100.397699\n",
       " dtype: float64)"
      ]
     },
     "execution_count": 5,
     "metadata": {},
     "output_type": "execute_result"
    }
   ],
   "source": [
    "naive1_sc = cf.ScoreComputer(naive1_path)\n",
    "naive1_sc.compute_scores(demand_and_solar_power, prediction_week)"
   ]
  },
  {
   "cell_type": "markdown",
   "id": "valued-venue",
   "metadata": {},
   "source": [
    "### Score for pred1"
   ]
  },
  {
   "cell_type": "code",
   "execution_count": 7,
   "id": "portuguese-source",
   "metadata": {},
   "outputs": [],
   "source": [
    "pred1_B_path = 'Output/test_raph/pred1.csv'"
   ]
  },
  {
   "cell_type": "code",
   "execution_count": 8,
   "id": "overall-cheese",
   "metadata": {},
   "outputs": [
    {
     "name": "stdout",
     "output_type": "stream",
     "text": [
      "100%|██████████| 7/7 [00:00<00:00, 92.01it/s]\n"
     ]
    },
    {
     "name": "stderr",
     "output_type": "stream",
     "text": [
      "/home/raph/project/westernpower/westernpower/task0/common_functions.py:302: FutureWarning: weekofyear and week have been deprecated, please use DatetimeIndex.isocalendar().week instead, which returns a Series.  To exactly reproduce the behavior of week and weekofyear and return an Index, you may call pd.Int64Index(idx.isocalendar().week)\n",
      "  B['week']=B.index.week\n"
     ]
    },
    {
     "data": {
      "text/plain": [
       "(          r_peak   p_solar           s\n",
       " dow 0  37.216828  0.995234  111.295763\n",
       " dow 1  36.858974  0.999997  110.576672\n",
       " dow 2  34.883721  0.999998  104.651048\n",
       " dow 3  37.662338    0.9999  112.979498\n",
       " dow 4   34.45122    0.9418    99.34353\n",
       " dow 5  36.666667  0.999169  109.939048\n",
       " dow 6  24.096386  0.558881   51.030417,\n",
       " r_peak     34.548019\n",
       " p_solar     0.927854\n",
       " s          99.973711\n",
       " dtype: float64)"
      ]
     },
     "execution_count": 8,
     "metadata": {},
     "output_type": "execute_result"
    }
   ],
   "source": [
    "pred1_sc = cf.ScoreComputer(pred1_B_path)\n",
    "pred1_sc.compute_scores(demand_and_solar_power, prediction_week)"
   ]
  },
  {
   "cell_type": "markdown",
   "id": "unlikely-comment",
   "metadata": {},
   "source": [
    "### Score for predicted demand"
   ]
  },
  {
   "cell_type": "code",
   "execution_count": 8,
   "id": "desirable-communist",
   "metadata": {},
   "outputs": [],
   "source": [
    "pred_demand_B_path = 'Output/test_raph/pred_demand.csv'"
   ]
  },
  {
   "cell_type": "code",
   "execution_count": 9,
   "id": "productive-campaign",
   "metadata": {},
   "outputs": [
    {
     "name": "stdout",
     "output_type": "stream",
     "text": [
      "100%|██████████| 7/7 [00:00<00:00, 98.65it/s]\n"
     ]
    },
    {
     "name": "stderr",
     "output_type": "stream",
     "text": [
      "/home/raph/project/westernpower/westernpower/task0/common_functions.py:342: FutureWarning: weekofyear and week have been deprecated, please use DatetimeIndex.isocalendar().week instead, which returns a Series.  To exactly reproduce the behavior of week and weekofyear and return an Index, you may call pd.Int64Index(idx.isocalendar().week)\n",
      "  B['week']=B.index.week\n"
     ]
    },
    {
     "data": {
      "text/plain": [
       "(          r_peak   p_solar           s\n",
       " dow 0  37.643294  0.992654  112.376797\n",
       " dow 1  37.002849  0.999792  110.993149\n",
       " dow 2  37.290513       1.0  111.871539\n",
       " dow 3  37.430014       1.0  112.290043\n",
       " dow 4  34.181572  0.954006   99.400389\n",
       " dow 5  38.902963  0.999797  116.693115\n",
       " dow 6  30.965194  0.606199   68.507345,\n",
       " r_peak      36.202343\n",
       " p_solar      0.936064\n",
       " s          104.590340\n",
       " dtype: float64)"
      ]
     },
     "execution_count": 9,
     "metadata": {},
     "output_type": "execute_result"
    }
   ],
   "source": [
    "pred_demand_sc = cf.ScoreComputer(pred_demand_B_path)\n",
    "pred_demand_sc.compute_scores(demand_and_solar_power, prediction_week)"
   ]
  },
  {
   "cell_type": "markdown",
   "id": "portuguese-upset",
   "metadata": {},
   "source": [
    "### Score for predict demand and solar method 2"
   ]
  },
  {
   "cell_type": "code",
   "execution_count": 12,
   "id": "intellectual-colleague",
   "metadata": {},
   "outputs": [],
   "source": [
    "pred_demand_meth2_B_path = 'Output/test_raph/pred_demand_meth2.csv'"
   ]
  },
  {
   "cell_type": "code",
   "execution_count": 13,
   "id": "universal-incentive",
   "metadata": {},
   "outputs": [
    {
     "name": "stdout",
     "output_type": "stream",
     "text": [
      "100%|██████████| 7/7 [00:00<00:00, 73.62it/s]\n"
     ]
    },
    {
     "name": "stderr",
     "output_type": "stream",
     "text": [
      "/home/raph/project/westernpower/westernpower/task0/common_functions.py:302: FutureWarning: weekofyear and week have been deprecated, please use DatetimeIndex.isocalendar().week instead, which returns a Series.  To exactly reproduce the behavior of week and weekofyear and return an Index, you may call pd.Int64Index(idx.isocalendar().week)\n",
      "  B['week']=B.index.week\n"
     ]
    },
    {
     "data": {
      "text/plain": [
       "(          r_peak   p_solar           s\n",
       " dow 0  37.643294  0.788333    96.99422\n",
       " dow 1  37.002849       1.0  111.008547\n",
       " dow 2  37.290513       1.0  111.871539\n",
       " dow 3  37.430014       1.0  112.290043\n",
       " dow 4  34.181572  0.721667   83.516974\n",
       " dow 5  38.902963    0.9775  114.958256\n",
       " dow 6  30.965194    0.2575   46.912269,\n",
       " r_peak     36.202343\n",
       " p_solar     0.820714\n",
       " s          96.793121\n",
       " dtype: float64)"
      ]
     },
     "execution_count": 13,
     "metadata": {},
     "output_type": "execute_result"
    }
   ],
   "source": [
    "pred_demand_meth2_sc = cf.ScoreComputer(pred_demand_meth2_B_path)\n",
    "pred_demand_meth2_sc.compute_scores(demand_and_solar_power, prediction_week)"
   ]
  },
  {
   "cell_type": "markdown",
   "id": "aggressive-benchmark",
   "metadata": {},
   "source": [
    "### Score for predict demand xgb"
   ]
  },
  {
   "cell_type": "code",
   "execution_count": 4,
   "id": "continental-crime",
   "metadata": {},
   "outputs": [],
   "source": [
    "pred_demand_xgb_B_path = 'Output/test_raph/pred_demand_xgb.csv'"
   ]
  },
  {
   "cell_type": "code",
   "execution_count": 6,
   "id": "particular-cream",
   "metadata": {},
   "outputs": [
    {
     "name": "stdout",
     "output_type": "stream",
     "text": [
      "100%|██████████| 7/7 [00:00<00:00, 83.54it/s]\n"
     ]
    },
    {
     "name": "stderr",
     "output_type": "stream",
     "text": [
      "/home/raph/project/westernpower/westernpower/task0/common_functions.py:342: FutureWarning: weekofyear and week have been deprecated, please use DatetimeIndex.isocalendar().week instead, which returns a Series.  To exactly reproduce the behavior of week and weekofyear and return an Index, you may call pd.Int64Index(idx.isocalendar().week)\n",
      "  B['week']=B.index.week\n"
     ]
    },
    {
     "data": {
      "text/plain": [
       "(          r_peak   p_solar           s\n",
       " dow 0  36.228922  0.992654  108.154463\n",
       " dow 1  36.617953  0.999792  109.838622\n",
       " dow 2  38.276009       1.0  114.828028\n",
       " dow 3  36.513492       1.0  109.540476\n",
       " dow 4  36.134022  0.954006  105.078135\n",
       " dow 5  35.105283  0.999797  105.301614\n",
       " dow 6   32.28635  0.606199   71.430267,\n",
       " r_peak      35.880290\n",
       " p_solar      0.936064\n",
       " s          103.453086\n",
       " dtype: float64)"
      ]
     },
     "execution_count": 6,
     "metadata": {},
     "output_type": "execute_result"
    }
   ],
   "source": [
    "pred_demand_xgb_sc = cf.ScoreComputer(pred_demand_xgb_B_path)\n",
    "pred_demand_xgb_sc.compute_scores(demand_and_solar_power, prediction_week)"
   ]
  },
  {
   "cell_type": "markdown",
   "id": "elementary-information",
   "metadata": {},
   "source": [
    "### Score for predict pv_power 2"
   ]
  },
  {
   "cell_type": "code",
   "execution_count": 13,
   "id": "virgin-coverage",
   "metadata": {},
   "outputs": [],
   "source": [
    "pred_pv2_B_path = 'Output/test_raph/pred_pv2.csv'"
   ]
  },
  {
   "cell_type": "code",
   "execution_count": 14,
   "id": "single-cancer",
   "metadata": {},
   "outputs": [
    {
     "name": "stdout",
     "output_type": "stream",
     "text": [
      "100%|██████████| 7/7 [00:00<00:00, 96.74it/s]\n"
     ]
    },
    {
     "name": "stderr",
     "output_type": "stream",
     "text": [
      "/home/raph/project/westernpower/westernpower/task0/common_functions.py:342: FutureWarning: weekofyear and week have been deprecated, please use DatetimeIndex.isocalendar().week instead, which returns a Series.  To exactly reproduce the behavior of week and weekofyear and return an Index, you may call pd.Int64Index(idx.isocalendar().week)\n",
      "  B['week']=B.index.week\n"
     ]
    },
    {
     "data": {
      "text/plain": [
       "(          r_peak   p_solar           s\n",
       " dow 0  37.216828  0.996512  111.390883\n",
       " dow 1  36.858974  0.999991  110.576239\n",
       " dow 2  34.883721  0.999971  104.649131\n",
       " dow 3  37.662338  0.999976   112.98523\n",
       " dow 4   34.45122  0.923166   98.059591\n",
       " dow 5  36.666667  0.999351  109.952378\n",
       " dow 6  24.096386  0.543012   50.265626,\n",
       " r_peak     34.548019\n",
       " p_solar     0.923140\n",
       " s          99.697011\n",
       " dtype: float64)"
      ]
     },
     "execution_count": 14,
     "metadata": {},
     "output_type": "execute_result"
    }
   ],
   "source": [
    "pred_pv2_sc = cf.ScoreComputer(pred_pv2_B_path)\n",
    "pred_pv2_sc.compute_scores(demand_and_solar_power, prediction_week)"
   ]
  },
  {
   "cell_type": "markdown",
   "id": "initial-bonus",
   "metadata": {},
   "source": [
    "### Score for predict pv_power and demand_MW"
   ]
  },
  {
   "cell_type": "code",
   "execution_count": 35,
   "id": "smoking-entrepreneur",
   "metadata": {},
   "outputs": [],
   "source": [
    "pred_pv_and_demand_B_path = 'Output/test_raph/pred_pv_and_demand.csv'"
   ]
  },
  {
   "cell_type": "code",
   "execution_count": 36,
   "id": "bearing-source",
   "metadata": {},
   "outputs": [
    {
     "name": "stdout",
     "output_type": "stream",
     "text": [
      "100%|██████████| 7/7 [00:00<00:00, 84.04it/s]\n"
     ]
    },
    {
     "name": "stderr",
     "output_type": "stream",
     "text": [
      "/home/raph/project/westernpower/westernpower/task0/common_functions.py:342: FutureWarning: weekofyear and week have been deprecated, please use DatetimeIndex.isocalendar().week instead, which returns a Series.  To exactly reproduce the behavior of week and weekofyear and return an Index, you may call pd.Int64Index(idx.isocalendar().week)\n",
      "  B['week']=B.index.week\n"
     ]
    },
    {
     "data": {
      "text/plain": [
       "(          r_peak   p_solar           s\n",
       " dow 0  38.170442  0.996512  114.245072\n",
       " dow 1  37.089031  0.999991  111.266406\n",
       " dow 2  35.791805  0.999971   107.37333\n",
       " dow 3  34.520202  0.999976  103.558972\n",
       " dow 4  33.836721  0.923166   96.310524\n",
       " dow 5  40.714815  0.999351  122.091564\n",
       " dow 6  23.362115  0.543012    48.73392,\n",
       " r_peak      34.783590\n",
       " p_solar      0.923140\n",
       " s          100.511398\n",
       " dtype: float64)"
      ]
     },
     "execution_count": 36,
     "metadata": {},
     "output_type": "execute_result"
    }
   ],
   "source": [
    "pred_pv_and_demand_sc = cf.ScoreComputer(pred_pv_and_demand_B_path)\n",
    "pred_pv_and_demand_sc.compute_scores(demand_and_solar_power, prediction_week)"
   ]
  },
  {
   "cell_type": "code",
   "execution_count": null,
   "id": "historic-sympathy",
   "metadata": {},
   "outputs": [],
   "source": []
  },
  {
   "cell_type": "code",
   "execution_count": 51,
   "id": "likely-portable",
   "metadata": {},
   "outputs": [],
   "source": [
    "pred_pv_and_demand2_B_path = 'Output/test_raph/pred_pv_and_demand2.csv'"
   ]
  },
  {
   "cell_type": "code",
   "execution_count": 52,
   "id": "drawn-genre",
   "metadata": {},
   "outputs": [
    {
     "name": "stdout",
     "output_type": "stream",
     "text": [
      "100%|██████████| 7/7 [00:00<00:00, 83.53it/s]\n"
     ]
    },
    {
     "name": "stderr",
     "output_type": "stream",
     "text": [
      "/home/raph/project/westernpower/westernpower/task0/common_functions.py:342: FutureWarning: weekofyear and week have been deprecated, please use DatetimeIndex.isocalendar().week instead, which returns a Series.  To exactly reproduce the behavior of week and weekofyear and return an Index, you may call pd.Int64Index(idx.isocalendar().week)\n",
      "  B['week']=B.index.week\n"
     ]
    },
    {
     "data": {
      "text/plain": [
       "(          r_peak   p_solar           s\n",
       " dow 0   38.33657  0.997157  114.791741\n",
       " dow 1  36.599003  0.999871  109.787551\n",
       " dow 2  36.780362  0.999859  110.330696\n",
       " dow 3  34.951659  0.999862  104.845361\n",
       " dow 4   33.98103  0.920977   96.572545\n",
       " dow 5  40.411111  0.997995  121.071246\n",
       " dow 6  23.605756  0.533132   48.775702,\n",
       " r_peak      34.952213\n",
       " p_solar      0.921265\n",
       " s          100.882120\n",
       " dtype: float64)"
      ]
     },
     "execution_count": 52,
     "metadata": {},
     "output_type": "execute_result"
    }
   ],
   "source": [
    "pred_pv_and_demand2_sc = cf.ScoreComputer(pred_pv_and_demand2_B_path)\n",
    "pred_pv_and_demand2_sc.compute_scores(demand_and_solar_power, prediction_week)"
   ]
  },
  {
   "cell_type": "code",
   "execution_count": null,
   "id": "documentary-blogger",
   "metadata": {},
   "outputs": [],
   "source": []
  }
 ],
 "metadata": {
  "kernelspec": {
   "display_name": "Python 3",
   "language": "python",
   "name": "python3"
  },
  "language_info": {
   "codemirror_mode": {
    "name": "ipython",
    "version": 3
   },
   "file_extension": ".py",
   "mimetype": "text/x-python",
   "name": "python",
   "nbconvert_exporter": "python",
   "pygments_lexer": "ipython3",
   "version": "3.7.9"
  }
 },
 "nbformat": 4,
 "nbformat_minor": 5
}
