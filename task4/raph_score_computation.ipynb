{
 "cells": [
  {
   "cell_type": "code",
   "execution_count": 3,
   "id": "pleasant-brief",
   "metadata": {},
   "outputs": [],
   "source": [
    "import pandas as pd\n",
    "import matplotlib.pyplot as plt\n",
    "import seaborn as sns\n",
    "import numpy as np\n",
    "from tqdm import tqdm\n",
    "import sys\n",
    "import os\n",
    "sys.path.append(os.path.abspath('../common/'))\n",
    "import common_functions_by_date as cfbd\n",
    "import datetime"
   ]
  },
  {
   "cell_type": "code",
   "execution_count": 4,
   "id": "dynamic-python",
   "metadata": {},
   "outputs": [],
   "source": [
    "demand_test_task4_path = 'test/demand_test_set4.csv'\n",
    "solar_power_test_task4_path = 'test/pv_test_set4.csv'\n",
    "demand_df = pd.read_csv(demand_test_task4_path,parse_dates=['datetime'],index_col=['datetime'])\n",
    "solar_power_df = pd.read_csv(solar_power_test_task4_path, parse_dates=['datetime'],index_col=['datetime'])\n",
    "demand_and_solar_power = pd.merge(demand_df, solar_power_df,  how='outer', left_index=True, right_index=True)\n",
    "demand_and_solar_power['week']=pd.Int64Index(demand_and_solar_power.index.isocalendar().week)\n",
    "demand_and_solar_power['dow']=demand_and_solar_power.index.dayofweek\n",
    "demand_and_solar_power['date'] = demand_and_solar_power.index.date\n",
    "demand_and_solar_power['hour'] = demand_and_solar_power.index.hour\n",
    "demand_and_solar_power['sp'] = demand_and_solar_power.hour*2 +demand_and_solar_power.index.minute/30 + 1"
   ]
  },
  {
   "cell_type": "code",
   "execution_count": 5,
   "id": "static-ghana",
   "metadata": {},
   "outputs": [
    {
     "data": {
      "text/html": [
       "<div>\n",
       "<style scoped>\n",
       "    .dataframe tbody tr th:only-of-type {\n",
       "        vertical-align: middle;\n",
       "    }\n",
       "\n",
       "    .dataframe tbody tr th {\n",
       "        vertical-align: top;\n",
       "    }\n",
       "\n",
       "    .dataframe thead th {\n",
       "        text-align: right;\n",
       "    }\n",
       "</style>\n",
       "<table border=\"1\" class=\"dataframe\">\n",
       "  <thead>\n",
       "    <tr style=\"text-align: right;\">\n",
       "      <th></th>\n",
       "      <th>demand_MW</th>\n",
       "      <th>irradiance_Wm-2</th>\n",
       "      <th>pv_power_mw</th>\n",
       "      <th>panel_temp_C</th>\n",
       "      <th>week</th>\n",
       "      <th>dow</th>\n",
       "      <th>date</th>\n",
       "      <th>hour</th>\n",
       "      <th>sp</th>\n",
       "    </tr>\n",
       "    <tr>\n",
       "      <th>datetime</th>\n",
       "      <th></th>\n",
       "      <th></th>\n",
       "      <th></th>\n",
       "      <th></th>\n",
       "      <th></th>\n",
       "      <th></th>\n",
       "      <th></th>\n",
       "      <th></th>\n",
       "      <th></th>\n",
       "    </tr>\n",
       "  </thead>\n",
       "  <tbody>\n",
       "    <tr>\n",
       "      <th>2020-07-03 00:00:00</th>\n",
       "      <td>1.64</td>\n",
       "      <td>0.0</td>\n",
       "      <td>0.0</td>\n",
       "      <td>8.17</td>\n",
       "      <td>27</td>\n",
       "      <td>4</td>\n",
       "      <td>2020-07-03</td>\n",
       "      <td>0</td>\n",
       "      <td>1.0</td>\n",
       "    </tr>\n",
       "    <tr>\n",
       "      <th>2020-07-03 00:30:00</th>\n",
       "      <td>1.56</td>\n",
       "      <td>0.0</td>\n",
       "      <td>0.0</td>\n",
       "      <td>9.68</td>\n",
       "      <td>27</td>\n",
       "      <td>4</td>\n",
       "      <td>2020-07-03</td>\n",
       "      <td>0</td>\n",
       "      <td>2.0</td>\n",
       "    </tr>\n",
       "    <tr>\n",
       "      <th>2020-07-03 01:00:00</th>\n",
       "      <td>1.46</td>\n",
       "      <td>0.0</td>\n",
       "      <td>0.0</td>\n",
       "      <td>9.54</td>\n",
       "      <td>27</td>\n",
       "      <td>4</td>\n",
       "      <td>2020-07-03</td>\n",
       "      <td>1</td>\n",
       "      <td>3.0</td>\n",
       "    </tr>\n",
       "    <tr>\n",
       "      <th>2020-07-03 01:30:00</th>\n",
       "      <td>1.38</td>\n",
       "      <td>0.0</td>\n",
       "      <td>0.0</td>\n",
       "      <td>9.51</td>\n",
       "      <td>27</td>\n",
       "      <td>4</td>\n",
       "      <td>2020-07-03</td>\n",
       "      <td>1</td>\n",
       "      <td>4.0</td>\n",
       "    </tr>\n",
       "    <tr>\n",
       "      <th>2020-07-03 02:00:00</th>\n",
       "      <td>1.36</td>\n",
       "      <td>0.0</td>\n",
       "      <td>0.0</td>\n",
       "      <td>9.56</td>\n",
       "      <td>27</td>\n",
       "      <td>4</td>\n",
       "      <td>2020-07-03</td>\n",
       "      <td>2</td>\n",
       "      <td>5.0</td>\n",
       "    </tr>\n",
       "    <tr>\n",
       "      <th>...</th>\n",
       "      <td>...</td>\n",
       "      <td>...</td>\n",
       "      <td>...</td>\n",
       "      <td>...</td>\n",
       "      <td>...</td>\n",
       "      <td>...</td>\n",
       "      <td>...</td>\n",
       "      <td>...</td>\n",
       "      <td>...</td>\n",
       "    </tr>\n",
       "    <tr>\n",
       "      <th>2020-07-09 21:30:00</th>\n",
       "      <td>2.35</td>\n",
       "      <td>0.0</td>\n",
       "      <td>0.0</td>\n",
       "      <td>11.04</td>\n",
       "      <td>28</td>\n",
       "      <td>3</td>\n",
       "      <td>2020-07-09</td>\n",
       "      <td>21</td>\n",
       "      <td>44.0</td>\n",
       "    </tr>\n",
       "    <tr>\n",
       "      <th>2020-07-09 22:00:00</th>\n",
       "      <td>2.02</td>\n",
       "      <td>0.0</td>\n",
       "      <td>0.0</td>\n",
       "      <td>11.21</td>\n",
       "      <td>28</td>\n",
       "      <td>3</td>\n",
       "      <td>2020-07-09</td>\n",
       "      <td>22</td>\n",
       "      <td>45.0</td>\n",
       "    </tr>\n",
       "    <tr>\n",
       "      <th>2020-07-09 22:30:00</th>\n",
       "      <td>1.83</td>\n",
       "      <td>0.0</td>\n",
       "      <td>0.0</td>\n",
       "      <td>12.08</td>\n",
       "      <td>28</td>\n",
       "      <td>3</td>\n",
       "      <td>2020-07-09</td>\n",
       "      <td>22</td>\n",
       "      <td>46.0</td>\n",
       "    </tr>\n",
       "    <tr>\n",
       "      <th>2020-07-09 23:00:00</th>\n",
       "      <td>1.74</td>\n",
       "      <td>0.0</td>\n",
       "      <td>0.0</td>\n",
       "      <td>12.11</td>\n",
       "      <td>28</td>\n",
       "      <td>3</td>\n",
       "      <td>2020-07-09</td>\n",
       "      <td>23</td>\n",
       "      <td>47.0</td>\n",
       "    </tr>\n",
       "    <tr>\n",
       "      <th>2020-07-09 23:30:00</th>\n",
       "      <td>1.61</td>\n",
       "      <td>0.0</td>\n",
       "      <td>0.0</td>\n",
       "      <td>11.62</td>\n",
       "      <td>28</td>\n",
       "      <td>3</td>\n",
       "      <td>2020-07-09</td>\n",
       "      <td>23</td>\n",
       "      <td>48.0</td>\n",
       "    </tr>\n",
       "  </tbody>\n",
       "</table>\n",
       "<p>336 rows × 9 columns</p>\n",
       "</div>"
      ],
      "text/plain": [
       "                     demand_MW  irradiance_Wm-2  pv_power_mw  panel_temp_C  \\\n",
       "datetime                                                                     \n",
       "2020-07-03 00:00:00       1.64              0.0          0.0          8.17   \n",
       "2020-07-03 00:30:00       1.56              0.0          0.0          9.68   \n",
       "2020-07-03 01:00:00       1.46              0.0          0.0          9.54   \n",
       "2020-07-03 01:30:00       1.38              0.0          0.0          9.51   \n",
       "2020-07-03 02:00:00       1.36              0.0          0.0          9.56   \n",
       "...                        ...              ...          ...           ...   \n",
       "2020-07-09 21:30:00       2.35              0.0          0.0         11.04   \n",
       "2020-07-09 22:00:00       2.02              0.0          0.0         11.21   \n",
       "2020-07-09 22:30:00       1.83              0.0          0.0         12.08   \n",
       "2020-07-09 23:00:00       1.74              0.0          0.0         12.11   \n",
       "2020-07-09 23:30:00       1.61              0.0          0.0         11.62   \n",
       "\n",
       "                     week  dow        date  hour    sp  \n",
       "datetime                                                \n",
       "2020-07-03 00:00:00    27    4  2020-07-03     0   1.0  \n",
       "2020-07-03 00:30:00    27    4  2020-07-03     0   2.0  \n",
       "2020-07-03 01:00:00    27    4  2020-07-03     1   3.0  \n",
       "2020-07-03 01:30:00    27    4  2020-07-03     1   4.0  \n",
       "2020-07-03 02:00:00    27    4  2020-07-03     2   5.0  \n",
       "...                   ...  ...         ...   ...   ...  \n",
       "2020-07-09 21:30:00    28    3  2020-07-09    21  44.0  \n",
       "2020-07-09 22:00:00    28    3  2020-07-09    22  45.0  \n",
       "2020-07-09 22:30:00    28    3  2020-07-09    22  46.0  \n",
       "2020-07-09 23:00:00    28    3  2020-07-09    23  47.0  \n",
       "2020-07-09 23:30:00    28    3  2020-07-09    23  48.0  \n",
       "\n",
       "[336 rows x 9 columns]"
      ]
     },
     "execution_count": 5,
     "metadata": {},
     "output_type": "execute_result"
    }
   ],
   "source": [
    "first_day_prediction = datetime.datetime(2020,7,3).date()\n",
    "# demand_and_solar_power = dp_task4.df.loc[(dp_task4.df.index.date >= first_day_prediction) & \n",
    "#                                          (dp_task4.df.index.date < first_day_prediction+ datetime.timedelta(days=7)), :]\n",
    "demand_and_solar_power"
   ]
  },
  {
   "cell_type": "code",
   "execution_count": 8,
   "id": "portuguese-provincial",
   "metadata": {},
   "outputs": [],
   "source": [
    "BGBattery_path = 'Output/BGBattery_set4.csv'"
   ]
  },
  {
   "cell_type": "code",
   "execution_count": 9,
   "id": "southwest-lodging",
   "metadata": {},
   "outputs": [
    {
     "name": "stdout",
     "output_type": "stream",
     "text": [
      "100%|██████████| 7/7 [00:00<00:00, 86.89it/s]\n"
     ]
    },
    {
     "data": {
      "text/plain": [
       "(             r_peak   p_solar           s\n",
       " 20200703  36.524541  0.964676  106.993218\n",
       " 20200704  34.105397  0.762636   86.125433\n",
       " 20200705  38.191701  0.999689  114.551379\n",
       " 20200706   40.94095       1.0  122.822851\n",
       " 20200707  37.501416  0.999806  112.489683\n",
       " 20200708  39.631718  0.970484  116.555595\n",
       " 20200709  35.342567  0.966432  103.654922,\n",
       " r_peak      37.462613\n",
       " p_solar      0.951960\n",
       " s          109.027583\n",
       " dtype: float64)"
      ]
     },
     "execution_count": 9,
     "metadata": {},
     "output_type": "execute_result"
    }
   ],
   "source": [
    "BGBattery_sc = cfbd.ScoreComputer(BGBattery_path)\n",
    "BGBattery_sc.compute_scores(demand_and_solar_power, first_day_prediction)"
   ]
  },
  {
   "cell_type": "code",
   "execution_count": null,
   "id": "iraqi-salon",
   "metadata": {},
   "outputs": [],
   "source": []
  },
  {
   "cell_type": "code",
   "execution_count": null,
   "id": "educated-rainbow",
   "metadata": {},
   "outputs": [],
   "source": []
  },
  {
   "cell_type": "code",
   "execution_count": 12,
   "id": "abstract-ethernet",
   "metadata": {},
   "outputs": [],
   "source": [
    "BGBattery_path_real = 'Output/BGBattery_set4_real.csv'"
   ]
  },
  {
   "cell_type": "code",
   "execution_count": 13,
   "id": "warming-sixth",
   "metadata": {},
   "outputs": [
    {
     "name": "stdout",
     "output_type": "stream",
     "text": [
      "100%|██████████| 7/7 [00:00<00:00, 89.80it/s]\n"
     ]
    },
    {
     "data": {
      "text/plain": [
       "(             r_peak   p_solar           s\n",
       " 20200703  42.547425       1.0  127.642276\n",
       " 20200704  42.857143  0.974124  126.353446\n",
       " 20200705   43.82716       1.0  131.481481\n",
       " 20200706  43.710692       1.0  131.132075\n",
       " 20200707  42.776204       1.0  128.328612\n",
       " 20200708  43.026706       1.0  129.080119\n",
       " 20200709  42.105263       1.0  126.315789,\n",
       " r_peak      42.978656\n",
       " p_solar      0.996303\n",
       " s          128.619114\n",
       " dtype: float64)"
      ]
     },
     "execution_count": 13,
     "metadata": {},
     "output_type": "execute_result"
    }
   ],
   "source": [
    "BGBattery_sc_real = cfbd.ScoreComputer(BGBattery_path_real)\n",
    "BGBattery_sc_real.compute_scores(demand_and_solar_power, first_day_prediction)"
   ]
  },
  {
   "cell_type": "code",
   "execution_count": null,
   "id": "compound-setting",
   "metadata": {},
   "outputs": [],
   "source": []
  },
  {
   "cell_type": "code",
   "execution_count": null,
   "id": "geological-masters",
   "metadata": {},
   "outputs": [],
   "source": []
  },
  {
   "cell_type": "code",
   "execution_count": 14,
   "id": "willing-steps",
   "metadata": {},
   "outputs": [],
   "source": [
    "BGBattery_path_v1 = 'Output/BGBattery_set4_v1.csv'"
   ]
  },
  {
   "cell_type": "code",
   "execution_count": 15,
   "id": "boxed-process",
   "metadata": {},
   "outputs": [
    {
     "name": "stdout",
     "output_type": "stream",
     "text": [
      "100%|██████████| 7/7 [00:00<00:00, 105.10it/s]\n"
     ]
    },
    {
     "data": {
      "text/plain": [
       "(             r_peak   p_solar           s\n",
       " 20200703  34.695273  0.965226   101.67283\n",
       " 20200704  29.572063  0.762711   74.681961\n",
       " 20200705  40.469136  0.999689  121.382269\n",
       " 20200706  39.809574       1.0  119.428721\n",
       " 20200707  37.393138  0.999806   112.16489\n",
       " 20200708  39.344543   0.97046  115.709131\n",
       " 20200709  33.812558  0.965043   99.073686,\n",
       " r_peak      36.442326\n",
       " p_solar      0.951848\n",
       " s          106.301927\n",
       " dtype: float64)"
      ]
     },
     "execution_count": 15,
     "metadata": {},
     "output_type": "execute_result"
    }
   ],
   "source": [
    "BGBattery_sc_v1 = cfbd.ScoreComputer(BGBattery_path_v1)\n",
    "BGBattery_sc_v1.compute_scores(demand_and_solar_power, first_day_prediction)"
   ]
  },
  {
   "cell_type": "code",
   "execution_count": null,
   "id": "stock-wichita",
   "metadata": {},
   "outputs": [],
   "source": []
  },
  {
   "cell_type": "code",
   "execution_count": null,
   "id": "southern-vault",
   "metadata": {},
   "outputs": [],
   "source": []
  },
  {
   "cell_type": "code",
   "execution_count": 18,
   "id": "liberal-appointment",
   "metadata": {},
   "outputs": [],
   "source": [
    "BGBattery_path_test = 'Output/BGBattery_set4_test.csv'"
   ]
  },
  {
   "cell_type": "code",
   "execution_count": 19,
   "id": "addressed-functionality",
   "metadata": {},
   "outputs": [
    {
     "name": "stdout",
     "output_type": "stream",
     "text": [
      "100%|██████████| 7/7 [00:00<00:00, 86.20it/s]\n"
     ]
    },
    {
     "data": {
      "text/plain": [
       "(             r_peak   p_solar           s\n",
       " 20200703  36.524541  0.964676  106.993218\n",
       " 20200704  34.105397  0.762636   86.125433\n",
       " 20200705  38.191701  0.999689  114.551379\n",
       " 20200706   40.94095       1.0  122.822851\n",
       " 20200707  37.501416  0.999806  112.489683\n",
       " 20200708  39.631718  0.970484  116.555595\n",
       " 20200709  35.342567  0.966432  103.654922,\n",
       " r_peak      37.462613\n",
       " p_solar      0.951960\n",
       " s          109.027583\n",
       " dtype: float64)"
      ]
     },
     "execution_count": 19,
     "metadata": {},
     "output_type": "execute_result"
    }
   ],
   "source": [
    "BGBattery_sc_test = cfbd.ScoreComputer(BGBattery_path_test)\n",
    "BGBattery_sc_test.compute_scores(demand_and_solar_power, first_day_prediction)"
   ]
  },
  {
   "cell_type": "code",
   "execution_count": null,
   "id": "illegal-district",
   "metadata": {},
   "outputs": [],
   "source": []
  },
  {
   "cell_type": "code",
   "execution_count": null,
   "id": "emerging-paragraph",
   "metadata": {},
   "outputs": [],
   "source": []
  },
  {
   "cell_type": "code",
   "execution_count": 1,
   "id": "automotive-rally",
   "metadata": {},
   "outputs": [],
   "source": [
    "BGBattery_path_naive = 'Output/BGBattery_naive_set4.csv'"
   ]
  },
  {
   "cell_type": "code",
   "execution_count": 6,
   "id": "scenic-communist",
   "metadata": {},
   "outputs": [
    {
     "name": "stdout",
     "output_type": "stream",
     "text": [
      "100%|██████████| 7/7 [00:00<00:00, 95.99it/s]\n"
     ]
    },
    {
     "data": {
      "text/plain": [
       "(             r_peak   p_solar           s\n",
       " 20200703  30.081301  0.873961   82.661041\n",
       " 20200704  33.714286  0.803027   87.861227\n",
       " 20200705  41.049383  0.999744  123.127119\n",
       " 20200706  38.050314       1.0  114.150943\n",
       " 20200707  35.977337       1.0  107.932011\n",
       " 20200708  37.982196  0.994239  113.508938\n",
       " 20200709  38.781163  0.937123  111.466616,\n",
       " r_peak      36.519426\n",
       " p_solar      0.944013\n",
       " s          105.815414\n",
       " dtype: float64)"
      ]
     },
     "execution_count": 6,
     "metadata": {},
     "output_type": "execute_result"
    }
   ],
   "source": [
    "BGBattery_sc_naive = cfbd.ScoreComputer(BGBattery_path_naive)\n",
    "BGBattery_sc_naive.compute_scores(demand_and_solar_power, first_day_prediction)"
   ]
  },
  {
   "cell_type": "code",
   "execution_count": null,
   "id": "killing-korea",
   "metadata": {},
   "outputs": [],
   "source": []
  }
 ],
 "metadata": {
  "kernelspec": {
   "display_name": "Python 3",
   "language": "python",
   "name": "python3"
  },
  "language_info": {
   "codemirror_mode": {
    "name": "ipython",
    "version": 3
   },
   "file_extension": ".py",
   "mimetype": "text/x-python",
   "name": "python",
   "nbconvert_exporter": "python",
   "pygments_lexer": "ipython3",
   "version": "3.7.9"
  }
 },
 "nbformat": 4,
 "nbformat_minor": 5
}
